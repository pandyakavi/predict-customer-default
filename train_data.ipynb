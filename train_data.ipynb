{
 "cells": [
  {
   "cell_type": "markdown",
   "metadata": {},
   "source": [
    "## To Do : \n",
    "### a. Random Forest Classifier\n",
    "### b. Documenting Experience on Data Preprocessing"
   ]
  },
  {
   "cell_type": "code",
   "execution_count": 1,
   "metadata": {},
   "outputs": [],
   "source": [
    "# Note: All the preprocessing step that we have carried out on train data would also be needed to carried out ...\n",
    "#       ... on the test data. As a result we might have to later ensure that the way we are handling outlier ...\n",
    "#       ...either through binning or imputation is constant for a given feature within both train and test set.\n",
    "    "
   ]
  },
  {
   "cell_type": "code",
   "execution_count": 2,
   "metadata": {},
   "outputs": [],
   "source": [
    "import pandas as pd\n",
    "import os\n",
    "import matplotlib\n",
    "%matplotlib inline\n",
    "from collections import Counter\n",
    "from sklearn.linear_model import LogisticRegression\n",
    "from sklearn.metrics import classification_report\n",
    "import numpy as np\n",
    "import seaborn as sb\n",
    "from sklearn.preprocessing import MinMaxScaler, StandardScaler\n",
    "import sklearn.metrics\n",
    "from sklearn.neighbors import KNeighborsClassifier\n",
    "import pickle\n",
    "\n",
    "\n",
    "import warnings\n",
    "warnings.filterwarnings(\"ignore\")\n"
   ]
  },
  {
   "cell_type": "code",
   "execution_count": 3,
   "metadata": {},
   "outputs": [],
   "source": [
    "# for dirname, _, filenames in os.walk('/mnt/'):\n",
    "#     for filename in filenames:\n",
    "#         print(os.path.join(dirname,filename))"
   ]
  },
  {
   "cell_type": "code",
   "execution_count": 4,
   "metadata": {},
   "outputs": [],
   "source": [
    "train_data = pd.read_csv('/mnt/cs-training.csv')"
   ]
  },
  {
   "cell_type": "code",
   "execution_count": 5,
   "metadata": {},
   "outputs": [
    {
     "data": {
      "text/html": [
       "<div>\n",
       "<style scoped>\n",
       "    .dataframe tbody tr th:only-of-type {\n",
       "        vertical-align: middle;\n",
       "    }\n",
       "\n",
       "    .dataframe tbody tr th {\n",
       "        vertical-align: top;\n",
       "    }\n",
       "\n",
       "    .dataframe thead th {\n",
       "        text-align: right;\n",
       "    }\n",
       "</style>\n",
       "<table border=\"1\" class=\"dataframe\">\n",
       "  <thead>\n",
       "    <tr style=\"text-align: right;\">\n",
       "      <th></th>\n",
       "      <th>Unnamed: 0</th>\n",
       "      <th>SeriousDlqin2yrs</th>\n",
       "      <th>RevolvingUtilizationOfUnsecuredLines</th>\n",
       "      <th>age</th>\n",
       "      <th>NumberOfTime30-59DaysPastDueNotWorse</th>\n",
       "      <th>DebtRatio</th>\n",
       "      <th>MonthlyIncome</th>\n",
       "      <th>NumberOfOpenCreditLinesAndLoans</th>\n",
       "      <th>NumberOfTimes90DaysLate</th>\n",
       "      <th>NumberRealEstateLoansOrLines</th>\n",
       "      <th>NumberOfTime60-89DaysPastDueNotWorse</th>\n",
       "      <th>NumberOfDependents</th>\n",
       "    </tr>\n",
       "  </thead>\n",
       "  <tbody>\n",
       "    <tr>\n",
       "      <th>0</th>\n",
       "      <td>1</td>\n",
       "      <td>1</td>\n",
       "      <td>0.766127</td>\n",
       "      <td>45</td>\n",
       "      <td>2</td>\n",
       "      <td>0.802982</td>\n",
       "      <td>9120.0</td>\n",
       "      <td>13</td>\n",
       "      <td>0</td>\n",
       "      <td>6</td>\n",
       "      <td>0</td>\n",
       "      <td>2.0</td>\n",
       "    </tr>\n",
       "    <tr>\n",
       "      <th>1</th>\n",
       "      <td>2</td>\n",
       "      <td>0</td>\n",
       "      <td>0.957151</td>\n",
       "      <td>40</td>\n",
       "      <td>0</td>\n",
       "      <td>0.121876</td>\n",
       "      <td>2600.0</td>\n",
       "      <td>4</td>\n",
       "      <td>0</td>\n",
       "      <td>0</td>\n",
       "      <td>0</td>\n",
       "      <td>1.0</td>\n",
       "    </tr>\n",
       "    <tr>\n",
       "      <th>2</th>\n",
       "      <td>3</td>\n",
       "      <td>0</td>\n",
       "      <td>0.658180</td>\n",
       "      <td>38</td>\n",
       "      <td>1</td>\n",
       "      <td>0.085113</td>\n",
       "      <td>3042.0</td>\n",
       "      <td>2</td>\n",
       "      <td>1</td>\n",
       "      <td>0</td>\n",
       "      <td>0</td>\n",
       "      <td>0.0</td>\n",
       "    </tr>\n",
       "    <tr>\n",
       "      <th>3</th>\n",
       "      <td>4</td>\n",
       "      <td>0</td>\n",
       "      <td>0.233810</td>\n",
       "      <td>30</td>\n",
       "      <td>0</td>\n",
       "      <td>0.036050</td>\n",
       "      <td>3300.0</td>\n",
       "      <td>5</td>\n",
       "      <td>0</td>\n",
       "      <td>0</td>\n",
       "      <td>0</td>\n",
       "      <td>0.0</td>\n",
       "    </tr>\n",
       "    <tr>\n",
       "      <th>4</th>\n",
       "      <td>5</td>\n",
       "      <td>0</td>\n",
       "      <td>0.907239</td>\n",
       "      <td>49</td>\n",
       "      <td>1</td>\n",
       "      <td>0.024926</td>\n",
       "      <td>63588.0</td>\n",
       "      <td>7</td>\n",
       "      <td>0</td>\n",
       "      <td>1</td>\n",
       "      <td>0</td>\n",
       "      <td>0.0</td>\n",
       "    </tr>\n",
       "  </tbody>\n",
       "</table>\n",
       "</div>"
      ],
      "text/plain": [
       "   Unnamed: 0  SeriousDlqin2yrs  RevolvingUtilizationOfUnsecuredLines  age  \\\n",
       "0           1                 1                              0.766127   45   \n",
       "1           2                 0                              0.957151   40   \n",
       "2           3                 0                              0.658180   38   \n",
       "3           4                 0                              0.233810   30   \n",
       "4           5                 0                              0.907239   49   \n",
       "\n",
       "   NumberOfTime30-59DaysPastDueNotWorse  DebtRatio  MonthlyIncome  \\\n",
       "0                                     2   0.802982         9120.0   \n",
       "1                                     0   0.121876         2600.0   \n",
       "2                                     1   0.085113         3042.0   \n",
       "3                                     0   0.036050         3300.0   \n",
       "4                                     1   0.024926        63588.0   \n",
       "\n",
       "   NumberOfOpenCreditLinesAndLoans  NumberOfTimes90DaysLate  \\\n",
       "0                               13                        0   \n",
       "1                                4                        0   \n",
       "2                                2                        1   \n",
       "3                                5                        0   \n",
       "4                                7                        0   \n",
       "\n",
       "   NumberRealEstateLoansOrLines  NumberOfTime60-89DaysPastDueNotWorse  \\\n",
       "0                             6                                     0   \n",
       "1                             0                                     0   \n",
       "2                             0                                     0   \n",
       "3                             0                                     0   \n",
       "4                             1                                     0   \n",
       "\n",
       "   NumberOfDependents  \n",
       "0                 2.0  \n",
       "1                 1.0  \n",
       "2                 0.0  \n",
       "3                 0.0  \n",
       "4                 0.0  "
      ]
     },
     "execution_count": 5,
     "metadata": {},
     "output_type": "execute_result"
    }
   ],
   "source": [
    "train_data.head()"
   ]
  },
  {
   "cell_type": "code",
   "execution_count": 6,
   "metadata": {},
   "outputs": [],
   "source": [
    "train_data_input = train_data.loc[:,~train_data.columns.isin(['Unnamed: 0','SeriousDlqin2yrs'])]"
   ]
  },
  {
   "cell_type": "code",
   "execution_count": 7,
   "metadata": {},
   "outputs": [
    {
     "data": {
      "text/html": [
       "<div>\n",
       "<style scoped>\n",
       "    .dataframe tbody tr th:only-of-type {\n",
       "        vertical-align: middle;\n",
       "    }\n",
       "\n",
       "    .dataframe tbody tr th {\n",
       "        vertical-align: top;\n",
       "    }\n",
       "\n",
       "    .dataframe thead th {\n",
       "        text-align: right;\n",
       "    }\n",
       "</style>\n",
       "<table border=\"1\" class=\"dataframe\">\n",
       "  <thead>\n",
       "    <tr style=\"text-align: right;\">\n",
       "      <th></th>\n",
       "      <th>RevolvingUtilizationOfUnsecuredLines</th>\n",
       "      <th>age</th>\n",
       "      <th>NumberOfTime30-59DaysPastDueNotWorse</th>\n",
       "      <th>DebtRatio</th>\n",
       "      <th>MonthlyIncome</th>\n",
       "      <th>NumberOfOpenCreditLinesAndLoans</th>\n",
       "      <th>NumberOfTimes90DaysLate</th>\n",
       "      <th>NumberRealEstateLoansOrLines</th>\n",
       "      <th>NumberOfTime60-89DaysPastDueNotWorse</th>\n",
       "      <th>NumberOfDependents</th>\n",
       "    </tr>\n",
       "  </thead>\n",
       "  <tbody>\n",
       "    <tr>\n",
       "      <th>0</th>\n",
       "      <td>0.766127</td>\n",
       "      <td>45</td>\n",
       "      <td>2</td>\n",
       "      <td>0.802982</td>\n",
       "      <td>9120.0</td>\n",
       "      <td>13</td>\n",
       "      <td>0</td>\n",
       "      <td>6</td>\n",
       "      <td>0</td>\n",
       "      <td>2.0</td>\n",
       "    </tr>\n",
       "    <tr>\n",
       "      <th>1</th>\n",
       "      <td>0.957151</td>\n",
       "      <td>40</td>\n",
       "      <td>0</td>\n",
       "      <td>0.121876</td>\n",
       "      <td>2600.0</td>\n",
       "      <td>4</td>\n",
       "      <td>0</td>\n",
       "      <td>0</td>\n",
       "      <td>0</td>\n",
       "      <td>1.0</td>\n",
       "    </tr>\n",
       "    <tr>\n",
       "      <th>2</th>\n",
       "      <td>0.658180</td>\n",
       "      <td>38</td>\n",
       "      <td>1</td>\n",
       "      <td>0.085113</td>\n",
       "      <td>3042.0</td>\n",
       "      <td>2</td>\n",
       "      <td>1</td>\n",
       "      <td>0</td>\n",
       "      <td>0</td>\n",
       "      <td>0.0</td>\n",
       "    </tr>\n",
       "    <tr>\n",
       "      <th>3</th>\n",
       "      <td>0.233810</td>\n",
       "      <td>30</td>\n",
       "      <td>0</td>\n",
       "      <td>0.036050</td>\n",
       "      <td>3300.0</td>\n",
       "      <td>5</td>\n",
       "      <td>0</td>\n",
       "      <td>0</td>\n",
       "      <td>0</td>\n",
       "      <td>0.0</td>\n",
       "    </tr>\n",
       "    <tr>\n",
       "      <th>4</th>\n",
       "      <td>0.907239</td>\n",
       "      <td>49</td>\n",
       "      <td>1</td>\n",
       "      <td>0.024926</td>\n",
       "      <td>63588.0</td>\n",
       "      <td>7</td>\n",
       "      <td>0</td>\n",
       "      <td>1</td>\n",
       "      <td>0</td>\n",
       "      <td>0.0</td>\n",
       "    </tr>\n",
       "  </tbody>\n",
       "</table>\n",
       "</div>"
      ],
      "text/plain": [
       "   RevolvingUtilizationOfUnsecuredLines  age  \\\n",
       "0                              0.766127   45   \n",
       "1                              0.957151   40   \n",
       "2                              0.658180   38   \n",
       "3                              0.233810   30   \n",
       "4                              0.907239   49   \n",
       "\n",
       "   NumberOfTime30-59DaysPastDueNotWorse  DebtRatio  MonthlyIncome  \\\n",
       "0                                     2   0.802982         9120.0   \n",
       "1                                     0   0.121876         2600.0   \n",
       "2                                     1   0.085113         3042.0   \n",
       "3                                     0   0.036050         3300.0   \n",
       "4                                     1   0.024926        63588.0   \n",
       "\n",
       "   NumberOfOpenCreditLinesAndLoans  NumberOfTimes90DaysLate  \\\n",
       "0                               13                        0   \n",
       "1                                4                        0   \n",
       "2                                2                        1   \n",
       "3                                5                        0   \n",
       "4                                7                        0   \n",
       "\n",
       "   NumberRealEstateLoansOrLines  NumberOfTime60-89DaysPastDueNotWorse  \\\n",
       "0                             6                                     0   \n",
       "1                             0                                     0   \n",
       "2                             0                                     0   \n",
       "3                             0                                     0   \n",
       "4                             1                                     0   \n",
       "\n",
       "   NumberOfDependents  \n",
       "0                 2.0  \n",
       "1                 1.0  \n",
       "2                 0.0  \n",
       "3                 0.0  \n",
       "4                 0.0  "
      ]
     },
     "execution_count": 7,
     "metadata": {},
     "output_type": "execute_result"
    }
   ],
   "source": [
    "train_data_input.head()"
   ]
  },
  {
   "cell_type": "code",
   "execution_count": 8,
   "metadata": {},
   "outputs": [],
   "source": [
    "train_data_output = train_data[['SeriousDlqin2yrs']]"
   ]
  },
  {
   "cell_type": "code",
   "execution_count": 9,
   "metadata": {},
   "outputs": [
    {
     "data": {
      "text/html": [
       "<div>\n",
       "<style scoped>\n",
       "    .dataframe tbody tr th:only-of-type {\n",
       "        vertical-align: middle;\n",
       "    }\n",
       "\n",
       "    .dataframe tbody tr th {\n",
       "        vertical-align: top;\n",
       "    }\n",
       "\n",
       "    .dataframe thead th {\n",
       "        text-align: right;\n",
       "    }\n",
       "</style>\n",
       "<table border=\"1\" class=\"dataframe\">\n",
       "  <thead>\n",
       "    <tr style=\"text-align: right;\">\n",
       "      <th></th>\n",
       "      <th>SeriousDlqin2yrs</th>\n",
       "    </tr>\n",
       "  </thead>\n",
       "  <tbody>\n",
       "    <tr>\n",
       "      <th>0</th>\n",
       "      <td>1</td>\n",
       "    </tr>\n",
       "    <tr>\n",
       "      <th>1</th>\n",
       "      <td>0</td>\n",
       "    </tr>\n",
       "    <tr>\n",
       "      <th>2</th>\n",
       "      <td>0</td>\n",
       "    </tr>\n",
       "    <tr>\n",
       "      <th>3</th>\n",
       "      <td>0</td>\n",
       "    </tr>\n",
       "    <tr>\n",
       "      <th>4</th>\n",
       "      <td>0</td>\n",
       "    </tr>\n",
       "  </tbody>\n",
       "</table>\n",
       "</div>"
      ],
      "text/plain": [
       "   SeriousDlqin2yrs\n",
       "0                 1\n",
       "1                 0\n",
       "2                 0\n",
       "3                 0\n",
       "4                 0"
      ]
     },
     "execution_count": 9,
     "metadata": {},
     "output_type": "execute_result"
    }
   ],
   "source": [
    "train_data_output.head()"
   ]
  },
  {
   "cell_type": "code",
   "execution_count": 10,
   "metadata": {},
   "outputs": [
    {
     "data": {
      "text/plain": [
       "(150000, 10)"
      ]
     },
     "execution_count": 10,
     "metadata": {},
     "output_type": "execute_result"
    }
   ],
   "source": [
    "train_data_input.shape"
   ]
  },
  {
   "cell_type": "code",
   "execution_count": 11,
   "metadata": {},
   "outputs": [
    {
     "data": {
      "text/plain": [
       "(150000, 1)"
      ]
     },
     "execution_count": 11,
     "metadata": {},
     "output_type": "execute_result"
    }
   ],
   "source": [
    "train_data_output.shape"
   ]
  },
  {
   "cell_type": "code",
   "execution_count": 12,
   "metadata": {
    "scrolled": true
   },
   "outputs": [
    {
     "name": "stdout",
     "output_type": "stream",
     "text": [
      "RevolvingUtilizationOfUnsecuredLines\n",
      "age\n",
      "NumberOfTime30-59DaysPastDueNotWorse\n",
      "DebtRatio\n",
      "MonthlyIncome\n",
      "NumberOfOpenCreditLinesAndLoans\n",
      "NumberOfTimes90DaysLate\n",
      "NumberRealEstateLoansOrLines\n",
      "NumberOfTime60-89DaysPastDueNotWorse\n",
      "NumberOfDependents\n"
     ]
    }
   ],
   "source": [
    "# Listing all input features\n",
    "\n",
    "for feature in train_data_input.columns:\n",
    "    print(feature)"
   ]
  },
  {
   "cell_type": "markdown",
   "metadata": {},
   "source": [
    "# Data Exploration"
   ]
  },
  {
   "cell_type": "markdown",
   "metadata": {},
   "source": [
    "## Exploring Output Data"
   ]
  },
  {
   "cell_type": "code",
   "execution_count": 13,
   "metadata": {},
   "outputs": [],
   "source": [
    "output_stat = Counter(train_data_output.SeriousDlqin2yrs)"
   ]
  },
  {
   "cell_type": "code",
   "execution_count": 14,
   "metadata": {},
   "outputs": [
    {
     "name": "stdout",
     "output_type": "stream",
     "text": [
      "Percentage of Customers who default are: 6.68%\n"
     ]
    }
   ],
   "source": [
    "print(\"Percentage of Customers who default are: \"+str(round(output_stat[1]*100/(output_stat[0]+output_stat[1]),2))+\"%\")"
   ]
  },
  {
   "cell_type": "code",
   "execution_count": 15,
   "metadata": {},
   "outputs": [
    {
     "name": "stdout",
     "output_type": "stream",
     "text": [
      "Percentage of Customers who do not default are: 93.32%\n"
     ]
    }
   ],
   "source": [
    "print(\"Percentage of Customers who do not default are: \"+str(round(output_stat[0]*100/(output_stat[0]+output_stat[1]),2))+\"%\")\n"
   ]
  },
  {
   "cell_type": "code",
   "execution_count": 16,
   "metadata": {},
   "outputs": [
    {
     "data": {
      "text/plain": [
       "<matplotlib.axes._subplots.AxesSubplot at 0x7fc7b1a47e80>"
      ]
     },
     "execution_count": 16,
     "metadata": {},
     "output_type": "execute_result"
    },
    {
     "data": {
      "image/png": "[encoded data removed]",
      "text/plain": [
       "<Figure size 432x288 with 1 Axes>"
      ]
     },
     "metadata": {},
     "output_type": "display_data"
    }
   ],
   "source": [
    "train_data_output['SeriousDlqin2yrs'].plot.hist()"
   ]
  },
  {
   "cell_type": "code",
   "execution_count": 17,
   "metadata": {},
   "outputs": [],
   "source": [
    "#Note: the data above is an example of class imbalance having the ration of 7:93\n",
    "## Generally there are two approaches to handle class imbalance:\n",
    "## a. sampling based\n",
    "## b. cost based \n",
    "\n",
    "# Lets read through this on Class imbalance: \n",
    "## https://machinelearningmastery.com/what-is-imbalanced-classification/\n",
    "## https://towardsdatascience.com/guide-to-classification-on-imbalanced-datasets-d6653aa5fa23"
   ]
  },
  {
   "cell_type": "markdown",
   "metadata": {},
   "source": [
    "## Exploring Input Features"
   ]
  },
  {
   "cell_type": "markdown",
   "metadata": {},
   "source": [
    "### Seeing if any columns has Nan value"
   ]
  },
  {
   "cell_type": "code",
   "execution_count": 18,
   "metadata": {},
   "outputs": [
    {
     "data": {
      "text/plain": [
       "Index(['MonthlyIncome', 'NumberOfDependents'], dtype='object')"
      ]
     },
     "execution_count": 18,
     "metadata": {},
     "output_type": "execute_result"
    }
   ],
   "source": [
    "train_data_input.columns[train_data_input.isna().any()]"
   ]
  },
  {
   "cell_type": "markdown",
   "metadata": {},
   "source": [
    "### Imputing missing data points for MonthlyIncome with KNN"
   ]
  },
  {
   "cell_type": "code",
   "execution_count": 19,
   "metadata": {},
   "outputs": [],
   "source": [
    "# #Source: https://medium.com/@Cambridge_Spark/tutorial-introduction-to-missing-data-imputation-4912b51c34eb\n",
    "\n",
    "# # n_neighbors = 3 (can be passed with the term n_neighbors), that is three neighbors to consider\n",
    "# # weights = 'distance' means that the priority to neighbors will be inversely proportional to their distance\n",
    "# knn_model = KNeighborsClassifier(3,weights='distance')\n",
    "\n",
    "# # Dropping na's for the purpose of training the dataset\n",
    "# complete_train_data_input = train_data_input.dropna()\n",
    "\n",
    "# # X : all columns except for MonthlyIncome and NumberOfDependesnts as MonthlyIncome is Y for us and ... \n",
    "# #     ... NumberOFDependents itself will be undergoing missing data imputation by KNN\n",
    "# # Y : MonthlyIncome\n",
    "# knn_model.fit(complete_train_data_input.loc[:,~complete_train_data_input.columns.isin(['MonthlyIncome','NumberOfDependents'])],\n",
    "#              complete_train_data_input['MonthlyIncome'])\n",
    "\n",
    "# # Predict on all the rows where MonthlyIncome was null\n",
    "# predicted_MonthlyIncome = knn_model.predict(\n",
    "#     train_data_input.loc[:,~train_data_input.columns.isin(['MonthlyIncome','NumberOfDependents'])][train_data_input['MonthlyIncome'].isna()])\n",
    "\n",
    "# # Fill in the null MonthlyIncome with the ones predicted using KNN\n",
    "# train_data_input.loc[train_data_input['MonthlyIncome'].isna(),'MonthlyIncome'] = predicted_MonthlyIncome\n"
   ]
  },
  {
   "cell_type": "code",
   "execution_count": 20,
   "metadata": {},
   "outputs": [
    {
     "data": {
      "text/plain": [
       "Index(['MonthlyIncome', 'NumberOfDependents'], dtype='object')"
      ]
     },
     "execution_count": 20,
     "metadata": {},
     "output_type": "execute_result"
    }
   ],
   "source": [
    "train_data_input.columns[train_data_input.isna().any()]"
   ]
  },
  {
   "cell_type": "markdown",
   "metadata": {},
   "source": [
    "### Imputing missing data points for NumberOfDependents with KNN"
   ]
  },
  {
   "cell_type": "code",
   "execution_count": 21,
   "metadata": {},
   "outputs": [],
   "source": [
    "# # n_neighbors = 3\n",
    "# knn = KNeighborsClassifier(3,weights='distance')\n",
    "\n",
    "# # X : All non-nan rows of all columns except for MonthlyIncome and NumberOfDependents. NumberOfDependents ...\n",
    "# #     ... would be Y and MonthlyIncome had been imputed with KNN and therefore it is not included here\n",
    "# complete_dataset = train_data_input.loc[:,~train_data_input.columns.isin(['MonthlyIncome','NumberOfDependents'])][~train_data_input['NumberOfDependents'].isna()]\n",
    "\n",
    "# # Fitting model on X and Y\n",
    "# knn.fit(complete_dataset,train_data_input[~train_data_input['NumberOfDependents'].isna()]['NumberOfDependents'])\n",
    "\n",
    "# # Predicting NumberOfDependents for the rows where tits value was missing\n",
    "# NumberOfDependents_predicted = knn.predict(train_data_input.loc[:,~train_data_input.columns.isin(['MonthlyIncome',\n",
    "#                                                                                                 'NumberOfDependents'])][train_data_input['NumberOfDependents'].isna()])\n",
    "# # Imputing the null NumberOfDependents with the ones predicted using KNN\n",
    "# train_data_input.loc[train_data_input['NumberOfDependents'].isna(),'NumberOfDependents'] = NumberOfDependents_predicted"
   ]
  },
  {
   "cell_type": "code",
   "execution_count": 22,
   "metadata": {},
   "outputs": [
    {
     "data": {
      "text/plain": [
       "Index(['MonthlyIncome', 'NumberOfDependents'], dtype='object')"
      ]
     },
     "execution_count": 22,
     "metadata": {},
     "output_type": "execute_result"
    }
   ],
   "source": [
    "train_data_input.columns[train_data_input.isna().any()]"
   ]
  },
  {
   "cell_type": "markdown",
   "metadata": {},
   "source": [
    "### Outcome after imputing missing values of MonthlyIncome and NumberOfDependents using KNN\n"
   ]
  },
  {
   "cell_type": "code",
   "execution_count": 23,
   "metadata": {},
   "outputs": [],
   "source": [
    "### We found that imputing NaN MonthlyIncome and NumberOfDependents feature using KNN approach the precision ...\n",
    "### ... and recall drops compared to when they where just imputed with 0. So, we are currently not imputing them ...\n",
    "### ... with the KNN approach.\n"
   ]
  },
  {
   "cell_type": "markdown",
   "metadata": {},
   "source": [
    "### RevolvingUtilizationOfUnsecuredLines"
   ]
  },
  {
   "cell_type": "code",
   "execution_count": 24,
   "metadata": {},
   "outputs": [
    {
     "data": {
      "text/plain": [
       "<matplotlib.axes._subplots.AxesSubplot at 0x7fc7b14e2ef0>"
      ]
     },
     "execution_count": 24,
     "metadata": {},
     "output_type": "execute_result"
    },
    {
     "data": {
      "image/png": "[encoded data removed]",
      "text/plain": [
       "<Figure size 432x288 with 1 Axes>"
      ]
     },
     "metadata": {},
     "output_type": "display_data"
    }
   ],
   "source": [
    "train_data_input['RevolvingUtilizationOfUnsecuredLines'].plot.hist()"
   ]
  },
  {
   "cell_type": "code",
   "execution_count": 25,
   "metadata": {},
   "outputs": [
    {
     "data": {
      "text/plain": [
       "count    150000.000000\n",
       "mean          6.048438\n",
       "std         249.755371\n",
       "min           0.000000\n",
       "25%           0.029867\n",
       "50%           0.154181\n",
       "75%           0.559046\n",
       "max       50708.000000\n",
       "Name: RevolvingUtilizationOfUnsecuredLines, dtype: float64"
      ]
     },
     "execution_count": 25,
     "metadata": {},
     "output_type": "execute_result"
    }
   ],
   "source": [
    "train_data['RevolvingUtilizationOfUnsecuredLines'].describe()"
   ]
  },
  {
   "cell_type": "markdown",
   "metadata": {},
   "source": [
    "#### Detecting whether RevolvingUtilizationOfUnsecuredLines has outliers"
   ]
  },
  {
   "cell_type": "code",
   "execution_count": 26,
   "metadata": {},
   "outputs": [
    {
     "data": {
      "text/plain": [
       "<matplotlib.axes._subplots.AxesSubplot at 0x7fc7b147a8d0>"
      ]
     },
     "execution_count": 26,
     "metadata": {},
     "output_type": "execute_result"
    },
    {
     "data": {
      "image/png": "[encoded data removed]",
      "text/plain": [
       "<Figure size 432x288 with 1 Axes>"
      ]
     },
     "metadata": {},
     "output_type": "display_data"
    }
   ],
   "source": [
    "# Indentifying if ReveolvingUtilizationOfUnsecuredLines has any otliers\n",
    "## Link on article about Outlier detection: https://machinelearningmastery.com/how-to-identify-outliers-in-your-data/\n",
    "\n",
    "#Approach 1: Extreme Value Analysis\n",
    "# https://heartbeat.fritz.ai/how-to-make-your-machine-learning-models-robust-to-outliers-44d404067d07\n",
    "## Interquartile range is given by, IQR = Q3 — Q1 \n",
    "## Upper limit = Q3+1.5*IQR \n",
    "## Lower limit = Q1–1.5*IQR \n",
    "## Anything below the lower limit and above the upper limit is considered an outlier\n",
    "## Note: Linear models are more impacted by the outliers than the tree based models. Source: https://www.quora.com/Why-are-tree-based-models-robust-to-outliers\n",
    "\n",
    "train_data_input[['RevolvingUtilizationOfUnsecuredLines']].boxplot()"
   ]
  },
  {
   "cell_type": "code",
   "execution_count": 27,
   "metadata": {},
   "outputs": [],
   "source": [
    "q_1 = train_data['RevolvingUtilizationOfUnsecuredLines'].describe()['25%']\n",
    "q_3 = train_data['RevolvingUtilizationOfUnsecuredLines'].describe()['75%']\n",
    "inter_quartile_range =  round(q_3 - q_1,2)\n",
    "upper_limit_outlier = round(q_3 + 1.5*inter_quartile_range,2)\n",
    "lower_limit_outlier = round(q_3 - 1.5*inter_quartile_range,2)"
   ]
  },
  {
   "cell_type": "code",
   "execution_count": 28,
   "metadata": {},
   "outputs": [
    {
     "data": {
      "text/plain": [
       "(0.53, -0.24, 1.35)"
      ]
     },
     "execution_count": 28,
     "metadata": {},
     "output_type": "execute_result"
    }
   ],
   "source": [
    "inter_quartile_range, lower_limit_outlier, upper_limit_outlier"
   ]
  },
  {
   "cell_type": "code",
   "execution_count": 29,
   "metadata": {},
   "outputs": [
    {
     "name": "stdout",
     "output_type": "stream",
     "text": [
      "Percentage datapoints of RevolvingUtilizationOfUnsecuredLines that are outliers is 0.51%\n"
     ]
    }
   ],
   "source": [
    "outlier_count = 0\n",
    "lower_outliers, upper_outliers = 0,0\n",
    "for i in train_data_input['RevolvingUtilizationOfUnsecuredLines']:\n",
    "    if i > upper_limit_outlier:\n",
    "        upper_outliers+=1 \n",
    "        outlier_count+=1\n",
    "    if i < lower_limit_outlier:\n",
    "        lower_outliers+=1\n",
    "        outlier_count+=1\n",
    "\n",
    "\n",
    "print(\"Percentage datapoints of RevolvingUtilizationOfUnsecuredLines that are outliers is \"+str(outlier_count*100/len(train_data_input['RevolvingUtilizationOfUnsecuredLines']))+\"%\")\n"
   ]
  },
  {
   "cell_type": "code",
   "execution_count": 30,
   "metadata": {},
   "outputs": [
    {
     "name": "stdout",
     "output_type": "stream",
     "text": [
      "765 0\n"
     ]
    }
   ],
   "source": [
    "print(upper_outliers,lower_outliers)"
   ]
  },
  {
   "cell_type": "markdown",
   "metadata": {},
   "source": [
    "#### Handling outliers of RevolvingUtilizationOfUnsecuredLines"
   ]
  },
  {
   "cell_type": "code",
   "execution_count": 31,
   "metadata": {},
   "outputs": [],
   "source": [
    "# How to deal with these outliers? Should they be removed, imputed, etc?\n",
    "## Currently we are imputing the outliers with values, \n",
    "## upper_outliers will be imputed with the maximum value that falls under upper_limit_outlier\n",
    "## lower_outliers will be imputed with the minimum value that falls under lower_limit_outlier"
   ]
  },
  {
   "cell_type": "code",
   "execution_count": 32,
   "metadata": {},
   "outputs": [],
   "source": [
    "valid_upper_val = train_data_input[train_data_input['RevolvingUtilizationOfUnsecuredLines'] < upper_limit_outlier]['RevolvingUtilizationOfUnsecuredLines'].max()\n",
    "valid_lower_val = train_data_input[train_data_input['RevolvingUtilizationOfUnsecuredLines'] > lower_limit_outlier]['RevolvingUtilizationOfUnsecuredLines'].min()\n",
    "\n"
   ]
  },
  {
   "cell_type": "code",
   "execution_count": 33,
   "metadata": {},
   "outputs": [
    {
     "data": {
      "text/plain": [
       "(1.349255721, 0.0)"
      ]
     },
     "execution_count": 33,
     "metadata": {},
     "output_type": "execute_result"
    }
   ],
   "source": [
    "valid_upper_val,valid_lower_val"
   ]
  },
  {
   "cell_type": "code",
   "execution_count": 34,
   "metadata": {},
   "outputs": [],
   "source": [
    "train_data_input.loc[train_data_input['RevolvingUtilizationOfUnsecuredLines']>upper_limit_outlier,'RevolvingUtilizationOfUnsecuredLines']=valid_upper_val\n",
    "train_data_input.loc[train_data_input['RevolvingUtilizationOfUnsecuredLines']<lower_limit_outlier,'RevolvingUtilizationOfUnsecuredLines']=valid_lower_val\n"
   ]
  },
  {
   "cell_type": "code",
   "execution_count": 35,
   "metadata": {},
   "outputs": [],
   "source": [
    "#### Confirming that outliers of RevolvingUtilizationOfUnsecuredLines has been handled"
   ]
  },
  {
   "cell_type": "code",
   "execution_count": 36,
   "metadata": {},
   "outputs": [
    {
     "name": "stdout",
     "output_type": "stream",
     "text": [
      "0 0 Percentage datapoints of RevolvingUtilizationOfUnsecuredLines that are outliers is 0.0%\n"
     ]
    }
   ],
   "source": [
    "outlier_count = 0\n",
    "lower_outliers, upper_outliers = 0,0\n",
    "for i in train_data_input['RevolvingUtilizationOfUnsecuredLines']:\n",
    "    if i > upper_limit_outlier:\n",
    "        upper_outliers+=1 \n",
    "        outlier_count+=1\n",
    "    if i < lower_limit_outlier:\n",
    "        lower_outliers+=1\n",
    "        outlier_count+=1\n",
    "\n",
    "\n",
    "print(upper_outliers,lower_outliers,\"Percentage datapoints of RevolvingUtilizationOfUnsecuredLines that are outliers is \"+str(outlier_count*100/len(train_data_input['RevolvingUtilizationOfUnsecuredLines']))+\"%\")\n"
   ]
  },
  {
   "cell_type": "markdown",
   "metadata": {},
   "source": [
    "### age"
   ]
  },
  {
   "cell_type": "code",
   "execution_count": 37,
   "metadata": {},
   "outputs": [
    {
     "data": {
      "text/plain": [
       "count    150000.000000\n",
       "mean         52.295207\n",
       "std          14.771866\n",
       "min           0.000000\n",
       "25%          41.000000\n",
       "50%          52.000000\n",
       "75%          63.000000\n",
       "max         109.000000\n",
       "Name: age, dtype: float64"
      ]
     },
     "execution_count": 37,
     "metadata": {},
     "output_type": "execute_result"
    }
   ],
   "source": [
    "train_data_input['age'].describe()"
   ]
  },
  {
   "cell_type": "code",
   "execution_count": 38,
   "metadata": {},
   "outputs": [
    {
     "data": {
      "text/plain": [
       "<matplotlib.axes._subplots.AxesSubplot at 0x7fc7b138b2b0>"
      ]
     },
     "execution_count": 38,
     "metadata": {},
     "output_type": "execute_result"
    },
    {
     "data": {
      "image/png": "[encoded data removed]",
      "text/plain": [
       "<Figure size 432x288 with 1 Axes>"
      ]
     },
     "metadata": {},
     "output_type": "display_data"
    }
   ],
   "source": [
    "train_data_input['age'].plot.hist(edgecolor='black')"
   ]
  },
  {
   "cell_type": "code",
   "execution_count": 39,
   "metadata": {},
   "outputs": [],
   "source": [
    "# options are: outlier, bin or adaptive_bin\n",
    "age_bin_or_outlier = 'adaptive_bin'"
   ]
  },
  {
   "cell_type": "markdown",
   "metadata": {},
   "source": [
    "#### Experimenting with Fixed Width Binning for age column\n",
    "##### Note: While runing binning, do not run the outlier code of the age so that we are able to identify the affaect of the two independently"
   ]
  },
  {
   "cell_type": "code",
   "execution_count": 40,
   "metadata": {},
   "outputs": [],
   "source": [
    "# Fixed with Binning: Source, https://towardsdatascience.com/understanding-feature-engineering-part-1-continuous-numeric-data-da4e47099a7b#:~:text=Binning%2C%20also%20known%20as%20quantization,are%20binned%20or%20grouped%20into.\n",
    "\n",
    "if age_bin_or_outlier == 'bin':\n",
    "\n",
    "    train_data_input['age_fixed_width_bin'] = np.where(train_data_input['age'] <= 25, 1,\n",
    "                                            np.where(train_data_input['age'] <= 35, 2,\n",
    "                                            np.where(train_data_input['age'] <= 45, 3,\n",
    "                                            np.where(train_data_input['age'] <= 55, 4,\n",
    "                                            np.where(train_data_input['age'] <= 65, 5,\n",
    "                                            np.where(train_data_input['age'] <= 75, 6,\n",
    "                                            np.where(train_data_input['age'] <= 85, 7,\n",
    "                                            np.where(train_data_input['age'] <= 95, 8,9))))))))\n",
    "    \n",
    "    print(set(train_data_input['age_fixed_width_bin']))\n",
    "    \n",
    "    train_data_input['age'] = train_data_input['age_fixed_width_bin']\n",
    "    \n",
    "    train_data_input.drop(columns='age_fixed_width_bin',inplace=True)"
   ]
  },
  {
   "cell_type": "markdown",
   "metadata": {},
   "source": [
    "#### Experimenting with Adaptive Binning for age column\n",
    "\n",
    "##### Concept behind Adaptive Binning:     In Fixed-Width-Binning we manually create the threshold for the bins. In Adaptive based we look at distribution of the data to create the bins."
   ]
  },
  {
   "cell_type": "code",
   "execution_count": 41,
   "metadata": {},
   "outputs": [
    {
     "name": "stdout",
     "output_type": "stream",
     "text": [
      "{0, 1, 2, 3, 4, 5, 6, 7, 8, 9}\n"
     ]
    }
   ],
   "source": [
    "if age_bin_or_outlier == 'adaptive_bin':\n",
    "\n",
    "    quantiles = 10 # Example: if quantiles = 4, it means, bins will be 0-25 percentile, 25-50th percentile, 50-75th percentile and 75-100th percentile\n",
    "    quantile_label = [i for i in range(quantiles)]\n",
    "    train_data_input['age_adaptive_bin'] = pd.qcut(train_data_input['age'],\n",
    "                                                   q=quantiles,\n",
    "                                                   labels=quantile_label)\n",
    "\n",
    "    print(set(train_data_input['age_adaptive_bin']))\n",
    "\n",
    "    train_data_input['age'] = train_data_input['age_adaptive_bin']\n",
    "\n",
    "    train_data_input.drop(columns='age_adaptive_bin',inplace=True)"
   ]
  },
  {
   "cell_type": "markdown",
   "metadata": {},
   "source": [
    "#### Detecting outliers for age"
   ]
  },
  {
   "cell_type": "code",
   "execution_count": 42,
   "metadata": {},
   "outputs": [
    {
     "data": {
      "text/plain": [
       "<matplotlib.axes._subplots.AxesSubplot at 0x7fc7ae025cc0>"
      ]
     },
     "execution_count": 42,
     "metadata": {},
     "output_type": "execute_result"
    },
    {
     "data": {
      "image/png": "[encoded data removed]",
      "text/plain": [
       "<Figure size 432x288 with 1 Axes>"
      ]
     },
     "metadata": {},
     "output_type": "display_data"
    }
   ],
   "source": [
    "train_data_input[['age']].boxplot()"
   ]
  },
  {
   "cell_type": "code",
   "execution_count": 43,
   "metadata": {},
   "outputs": [],
   "source": [
    "if age_bin_or_outlier == 'outlier':\n",
    "\n",
    "    percent_75_age = train_data_input['age'].describe()['75%']\n",
    "    percent_25_age = train_data_input['age'].describe()['25%']\n",
    "    iqr = percent_75_age - percent_25_age\n",
    "    valid_upper_range = percent_75_age + 1.5*iqr\n",
    "    valid_lower_range = percent_25_age - 1.5*iqr\n",
    "\n",
    "    print(valid_upper_range,valid_lower_range)"
   ]
  },
  {
   "cell_type": "code",
   "execution_count": 44,
   "metadata": {},
   "outputs": [],
   "source": [
    "if age_bin_or_outlier == 'outlier':\n",
    "    outlier_count = 0\n",
    "    for age in train_data_input['age']:\n",
    "        if age > valid_upper_range or age < valid_lower_range:\n",
    "            outlier_count+=1\n",
    "\n",
    "    print(outlier_count, \"Percentage of outliers in age are \"+str(round(outlier_count*100/train_data_input['age'].count(),2))+\"%\")"
   ]
  },
  {
   "cell_type": "markdown",
   "metadata": {},
   "source": [
    "#### Handling outliers for age"
   ]
  },
  {
   "cell_type": "code",
   "execution_count": 45,
   "metadata": {},
   "outputs": [],
   "source": [
    "if age_bin_or_outlier == 'outlier':\n",
    "    max_valid_age = train_data_input[train_data_input['age']<valid_upper_range]['age'].max()\n",
    "    min_valid_age = train_data_input[train_data_input['age']>valid_lower_range]['age'].min()\n",
    "    print(max_valid_age,min_valid_age)"
   ]
  },
  {
   "cell_type": "code",
   "execution_count": 46,
   "metadata": {},
   "outputs": [],
   "source": [
    "if age_bin_or_outlier == 'outlier':\n",
    "    train_data_input.loc[train_data_input['age'] > valid_upper_range,'age']=max_valid_age\n",
    "    train_data_input.loc[train_data_input['age'] < valid_lower_range,'age']=min_valid_age"
   ]
  },
  {
   "cell_type": "markdown",
   "metadata": {},
   "source": [
    "### Exploring three relevant seeming PastDue features together\n",
    "\n",
    "#### NumberOfTime30-59DaysPastDueNotWorse, NumberOfTime60-89DaysPastDueNotWorse, NumberOfTimes90DaysLate\n"
   ]
  },
  {
   "cell_type": "code",
   "execution_count": 47,
   "metadata": {},
   "outputs": [],
   "source": [
    "due_30_59 = 'NumberOfTime30-59DaysPastDueNotWorse'\n",
    "due_60_89 = 'NumberOfTime60-89DaysPastDueNotWorse'\n",
    "due_90 = 'NumberOfTimes90DaysLate'\n",
    "\n",
    "option = due_30_59"
   ]
  },
  {
   "cell_type": "code",
   "execution_count": 48,
   "metadata": {},
   "outputs": [
    {
     "data": {
      "text/plain": [
       "count    150000.000000\n",
       "mean          0.421033\n",
       "std           4.192781\n",
       "min           0.000000\n",
       "25%           0.000000\n",
       "50%           0.000000\n",
       "75%           0.000000\n",
       "max          98.000000\n",
       "Name: NumberOfTime30-59DaysPastDueNotWorse, dtype: float64"
      ]
     },
     "execution_count": 48,
     "metadata": {},
     "output_type": "execute_result"
    }
   ],
   "source": [
    "train_data_input[option].describe()"
   ]
  },
  {
   "cell_type": "code",
   "execution_count": 49,
   "metadata": {},
   "outputs": [
    {
     "data": {
      "text/plain": [
       "<matplotlib.axes._subplots.AxesSubplot at 0x7fc7b1375240>"
      ]
     },
     "execution_count": 49,
     "metadata": {},
     "output_type": "execute_result"
    },
    {
     "data": {
      "image/png": "[encoded data removed]",
      "text/plain": [
       "<Figure size 432x288 with 1 Axes>"
      ]
     },
     "metadata": {},
     "output_type": "display_data"
    }
   ],
   "source": [
    "train_data_input[option].plot.hist(edgecolor='black')"
   ]
  },
  {
   "cell_type": "code",
   "execution_count": 50,
   "metadata": {},
   "outputs": [
    {
     "data": {
      "text/plain": [
       "<matplotlib.axes._subplots.AxesSubplot at 0x7fc7b12df518>"
      ]
     },
     "execution_count": 50,
     "metadata": {},
     "output_type": "execute_result"
    },
    {
     "data": {
      "image/png": "[encoded data removed]",
      "text/plain": [
       "<Figure size 432x288 with 1 Axes>"
      ]
     },
     "metadata": {},
     "output_type": "display_data"
    }
   ],
   "source": [
    "train_data_input[[option]].boxplot()"
   ]
  },
  {
   "cell_type": "code",
   "execution_count": 51,
   "metadata": {},
   "outputs": [
    {
     "name": "stdout",
     "output_type": "stream",
     "text": [
      "[(1, 16033), (2, 4598), (3, 1754), (4, 747), (5, 342), (6, 140), (7, 54), (8, 25), (9, 12), (10, 4), (11, 1), (12, 2), (13, 1), (96, 5), (98, 264)]\n"
     ]
    }
   ],
   "source": [
    "count=0\n",
    "due_list = []\n",
    "for due_frequency in train_data_input[option]:\n",
    "    if due_frequency > 0:\n",
    "        count+=1\n",
    "        due_list.append(due_frequency)\n",
    "        \n",
    "print(sorted(Counter(due_list).items()))"
   ]
  },
  {
   "cell_type": "markdown",
   "metadata": {},
   "source": [
    "#### Visualizing correlation among three features"
   ]
  },
  {
   "cell_type": "code",
   "execution_count": 52,
   "metadata": {},
   "outputs": [
    {
     "data": {
      "text/plain": [
       "<matplotlib.axes._subplots.AxesSubplot at 0x7fc7b12137b8>"
      ]
     },
     "execution_count": 52,
     "metadata": {},
     "output_type": "execute_result"
    },
    {
     "data": {
      "image/png": "[encoded data removed]",
      "text/plain": [
       "<Figure size 432x288 with 2 Axes>"
      ]
     },
     "metadata": {},
     "output_type": "display_data"
    }
   ],
   "source": [
    "# Using Pearson corrleation:\n",
    "# Source A : https://towardsdatascience.com/feature-selection-with-pandas-e3690ad8504b\n",
    "# Source B :  https://pandas.pydata.org/pandas-docs/stable/reference/api/pandas.DataFrame.corr.html\n",
    "\n",
    "correlated_matrix = train_data.corr()\n",
    "sb.heatmap(correlated_matrix)"
   ]
  },
  {
   "cell_type": "code",
   "execution_count": 53,
   "metadata": {},
   "outputs": [],
   "source": [
    "# Description of the above heatmap:\n",
    "## a. Correlation values closer to 1 imply strong positive correlation. That is increase ... \n",
    "##    ... of value in one feature correspond to the increase of value in another feature and vice-versa.\n",
    "## b. Correlation values closer to -1 imply strong negative correlation. That is increase ... \n",
    "##    ... of value in one feature correspond to the decrease of value in another feature and vice-versa.\n",
    "## c. Correlation values closer to 0 imply weak correlation. Value of exact 0 implies no correlation at all.\n",
    "\n",
    "## From the above heatmap we can see that the three below listed features are highly correlated:\n",
    "## i. 'NumberOfTime30-59DaysPastDueNotWorse'\n",
    "## ii. 'NumberOfTime60-89DaysPastDueNotWorse'\n",
    "## iii. 'NumberOfTimes90DaysLate'\n",
    "\n",
    "## And as we see below that their pairwise correlation is on the high end of 0.98 indicating ...\n",
    "## very strong positive correlation\n"
   ]
  },
  {
   "cell_type": "markdown",
   "metadata": {},
   "source": [
    "#### Two approach for the correlated features"
   ]
  },
  {
   "cell_type": "code",
   "execution_count": 54,
   "metadata": {},
   "outputs": [],
   "source": [
    "## Approach 1: Retain only one feature and drop the other two\n",
    "## In theory given that the three features are so highly correlated that they all might not be adding value ...\n",
    "## ... so we can remove the other correlated features\n",
    "\n",
    "## Lets say we maintain 'NumberOfTime30-59DaysPastDueNotWorse' and drop the other two:\n",
    "# train_data_input.drop(columns=['NumberOfTime60-89DaysPastDueNotWorse', 'NumberOfTimes90DaysLate'],inplace=True)\n",
    "\n",
    "## Doing so we see the Recall and Precision reduces significantly. The same is the case when we keep any one of ...\n",
    "## ... the three and drop other two. Same happens if we keep any two and drop the other one.\n",
    "## This shows that eventhough the features are highly correlated the model is finding all of them useful ...\n",
    "## ... in making the predictions. Hence, we would not be able to drop any of the three feature\n"
   ]
  },
  {
   "cell_type": "code",
   "execution_count": 55,
   "metadata": {},
   "outputs": [
    {
     "name": "stdout",
     "output_type": "stream",
     "text": [
      "{0: 0, 7: 1, 14: 2, 28: 3}\n"
     ]
    }
   ],
   "source": [
    "## Approach 2: Bin the dataset\n",
    "## Given that three features have a very high positive correlation we can use the same concept and threshold of ...\n",
    "## ... binning for all three features.\n",
    "\n",
    "## For binning, we first analyze the dataset:\n",
    "# print(sorted(Counter(train_data_input['NumberOfTime30-59DaysPastDueNotWorse']).items()))\n",
    "## Given the other two features are related to this one, the Counter() for them also shows same trend to an extent\n",
    "## From this data we relaize that majority do not have a PastDue scenario with majority of the occurences ...\n",
    "## ... being 0. At same time I am thinking along the lines of 1 week, 2 weeks, 1 month and see if the ...\n",
    "## ... customers are able to pay the due within that. This idea came around people getting a paycheck next ...\n",
    "## ... week enabling them to pay the due or so on. Note, this a just a though process through which we defined ...\n",
    "## ... bins and does not necessarily hold true. Nonetheless atleast we have a thought process behind determining ...\n",
    "## ... these bins\n",
    "\n",
    "\n",
    "one_day = 1\n",
    "one_week = 7*one_day\n",
    "half_month = 2*one_week\n",
    "one_month = 4*one_week\n",
    "\n",
    "custom_bins = {0:0,one_week:1,half_month:2, one_month:3}\n",
    "## Due of 0 days, assign value 0\n",
    "## Due of (0,7] days, assign value 1\n",
    "## Due of (7,14] days, assign value 2\n",
    "## Due of (14,28] days, assign value 3\n",
    "## Due beyond 28 days, assign value 4\n",
    "## The code in below cell is execusting the above logic\n",
    "    \n",
    "print(custom_bins)"
   ]
  },
  {
   "cell_type": "code",
   "execution_count": 56,
   "metadata": {},
   "outputs": [
    {
     "name": "stdout",
     "output_type": "stream",
     "text": [
      "[(0, 142396), (1, 7331), (2, 4), (4, 269)]\n",
      "[(0, 141662), (1, 8005), (2, 61), (3, 3), (4, 269)]\n",
      "[(0, 126018), (1, 23668), (2, 45), (4, 269)]\n"
     ]
    }
   ],
   "source": [
    "for past_due_feature in ['NumberOfTime60-89DaysPastDueNotWorse',\n",
    "                         'NumberOfTimes90DaysLate',\n",
    "                         'NumberOfTime30-59DaysPastDueNotWorse']:\n",
    "    \n",
    "    train_data_input[past_due_feature] = np.where(train_data_input[past_due_feature]>one_month,\n",
    "                                                  custom_bins[one_month]+1, \n",
    "                                                  np.where(train_data_input[past_due_feature]>half_month,\n",
    "                                                           custom_bins[half_month]+1, \n",
    "                                                           np.where(train_data_input[past_due_feature]>one_week, \n",
    "                                                                    custom_bins[one_week]+1, \n",
    "                                                                    np.where(train_data_input[past_due_feature]>0, \n",
    "                                                                             custom_bins[0]+1,0))))\n",
    "    \n",
    "    print(sorted(Counter(train_data_input[past_due_feature]).items()))\n"
   ]
  },
  {
   "cell_type": "markdown",
   "metadata": {},
   "source": [
    "### DebtRatio\t\n"
   ]
  },
  {
   "cell_type": "markdown",
   "metadata": {},
   "source": [
    "#### Analyzing and Visualizing DebtRatio"
   ]
  },
  {
   "cell_type": "code",
   "execution_count": 57,
   "metadata": {},
   "outputs": [
    {
     "data": {
      "text/plain": [
       "count    150000.000000\n",
       "mean        353.005076\n",
       "std        2037.818523\n",
       "min           0.000000\n",
       "25%           0.175074\n",
       "50%           0.366508\n",
       "75%           0.868254\n",
       "max      329664.000000\n",
       "Name: DebtRatio, dtype: float64"
      ]
     },
     "execution_count": 57,
     "metadata": {},
     "output_type": "execute_result"
    }
   ],
   "source": [
    "train_data_input['DebtRatio'].describe()"
   ]
  },
  {
   "cell_type": "code",
   "execution_count": 58,
   "metadata": {},
   "outputs": [
    {
     "data": {
      "text/plain": [
       "<matplotlib.axes._subplots.AxesSubplot at 0x7fc7ae13e898>"
      ]
     },
     "execution_count": 58,
     "metadata": {},
     "output_type": "execute_result"
    },
    {
     "data": {
      "image/png": "[encoded data removed]",
      "text/plain": [
       "<Figure size 432x288 with 1 Axes>"
      ]
     },
     "metadata": {},
     "output_type": "display_data"
    }
   ],
   "source": [
    "train_data_input[train_data_input['DebtRatio']>0]['DebtRatio'].plot.hist(edgecolor='Black')"
   ]
  },
  {
   "cell_type": "code",
   "execution_count": 59,
   "metadata": {},
   "outputs": [
    {
     "data": {
      "text/plain": [
       "<matplotlib.axes._subplots.AxesSubplot at 0x7fc7ae0f3940>"
      ]
     },
     "execution_count": 59,
     "metadata": {},
     "output_type": "execute_result"
    },
    {
     "data": {
      "image/png": "[encoded data removed]",
      "text/plain": [
       "<Figure size 432x288 with 1 Axes>"
      ]
     },
     "metadata": {},
     "output_type": "display_data"
    }
   ],
   "source": [
    "train_data_input[['DebtRatio']].boxplot()"
   ]
  },
  {
   "cell_type": "markdown",
   "metadata": {},
   "source": [
    "#### Thoughts after Visual Analysis of DebtRatio feature"
   ]
  },
  {
   "cell_type": "code",
   "execution_count": 60,
   "metadata": {},
   "outputs": [],
   "source": [
    "## The data is scattered out ranging from 0% to as high as 32,966,400% debt utilization. Thus we can ... \n",
    "## ... use three approach:\n",
    "## 1. Make customize bin and do data binning\n",
    "## 2. Do Extreme Value Analysis and impute outliers with the highest/lowest value respectively\n",
    "## 3. Explore Normalization or standardization of the feature\n",
    "\n",
    "\n",
    "## Note : DebtRatio is present as ratio to multiply it by 100 to convert to percentage."
   ]
  },
  {
   "cell_type": "code",
   "execution_count": 61,
   "metadata": {},
   "outputs": [],
   "source": [
    "# #Approach 1: Making custom bins for the DebtRatio\n",
    "\n",
    "# #DebtRatio bins in percentage format\n",
    "# # 0: [0]\n",
    "# # 1: (0,20%]\n",
    "# # 2: (20,40%]\n",
    "# # 3: (40,60%]\n",
    "# # 4: (60,80%]\n",
    "# # 5: (80,100%]\n",
    "# # 6: (100%,200%]\n",
    "# # 7: (200%,500%]\n",
    "# # 8: (500%,]\n",
    "\n",
    " \n",
    "# train_data_input['DebtRatio'] = np.where(train_data_input['DebtRatio'] > 5, 8,\n",
    "#                                         np.where(train_data_input['DebtRatio'] > 2, 7,\n",
    "#                                                 np.where(train_data_input['DebtRatio'] > 1, 6,\n",
    "#                                                         np.where(train_data_input['DebtRatio'] > .8, 5,\n",
    "#                                                                 np.where(train_data_input['DebtRatio'] > .6, 4,\n",
    "#                                                                         np.where(train_data_input['DebtRatio'] > .4, 3,\n",
    "#                                                                                 np.where(train_data_input['DebtRatio'] > .2, 2,\n",
    "#                                                                                         np.where(train_data_input['DebtRatio'] > 0, 1, 0))))))))\n",
    "\n"
   ]
  },
  {
   "cell_type": "code",
   "execution_count": 62,
   "metadata": {},
   "outputs": [
    {
     "name": "stdout",
     "output_type": "stream",
     "text": [
      "1.91 -0.86 1.91 0.0\n"
     ]
    }
   ],
   "source": [
    "# Approach 2: Do Extreme Value Analysis and impute outliers with the highest/lowest value respectively\n",
    "\n",
    "q1 = train_data_input['DebtRatio'].describe()['25%']\n",
    "q3 = train_data_input['DebtRatio'].describe()['75%']\n",
    "iqr = q3-q1\n",
    "\n",
    "outlier_upper_range = round(q3 + 1.5*iqr,2)\n",
    "outlier_lower_range = round(q1 - 1.5*iqr,2)\n",
    "\n",
    "\n",
    "non_outlier_highest_value = round(train_data_input[train_data_input['DebtRatio']<outlier_upper_range]['DebtRatio'].max(),2)\n",
    "non_outlier_lowest_value = round(train_data_input[train_data_input['DebtRatio']>outlier_lower_range]['DebtRatio'].min(),2)\n",
    "\n",
    "print(outlier_upper_range,outlier_lower_range,non_outlier_highest_value,non_outlier_lowest_value)\n",
    "\n",
    "train_data_input.loc[train_data_input['DebtRatio']>outlier_upper_range,'DebtRatio'] = non_outlier_highest_value\n",
    "train_data_input.loc[train_data_input['DebtRatio']<outlier_lower_range,'DebtRatio'] = non_outlier_lowest_value"
   ]
  },
  {
   "cell_type": "code",
   "execution_count": 63,
   "metadata": {},
   "outputs": [],
   "source": [
    "# # Approach 3: Exploring Normalization or standardization of the feature\n",
    "# # Note: ML algorithms using Gradient Descent as an optimization technique are sensitive to ...\n",
    "# #       ... feature scaling. Take a look at the formula on why this is the case at the source ...\n",
    "# #       ... link below. Feature scaling atleast seem to help gradient descent converge faster ...\n",
    "# #       ... but I am not yet sure if it helps improve the performance on recall/precision or ...\n",
    "# #       ... other accuracy metrics.\n",
    "# #\n",
    "# #       Distance based algorithms are also affected by it.Whereas Tree based algorithms ...\n",
    "# #       ... are insensitive to different feautres being on different scale as they split ...\n",
    "# #       ... a node on a single feature. This makes Tree based algorithms invariant to ...\n",
    "# #       ... feature scaling.\n",
    "# #\n",
    "# # Source: https://www.analyticsvidhya.com/blog/2020/04/feature-scaling-machine-learning-normalization-standardization/\n",
    "\n",
    "# # Normalization:\n",
    "# # Scale a feature from 0 to 1. Minimum value becomes 0 and maximum value becomes 1. It is also ...\n",
    "# # ... called as Min-Max scaling.\n",
    "# # new_value = (original_value - min_value)/(max_value - min_vale)\n",
    "\n",
    "# # Standardization:\n",
    "# # Values are centered around min with unit standard deviation. That is, the mean becomes 0 and the ...\n",
    "# # ... resultant distribution has unit standard deviation. Unlike normalization, the values are not ...\n",
    "# # ... restricted to a specifc range.\n",
    "# # new_value = (original_value - mean)/(Standard Deviation)\n",
    "\n",
    "# # Note: It seems that if the data has ourliers on either ends than the Normalization range of 0-1 would be ...\n",
    "# #       ... affected by it. Because in that case 1 will be the outlier on maximum range and/or 0 will be ...\n",
    "# #       ... the outlier on the minimum range. \n",
    "\n",
    "# # sklearn Source: https://scikit-learn.org/stable/modules/generated/sklearn.preprocessing.MinMaxScaler.html\n",
    "# # sklearn Source: https://scikit-learn.org/stable/modules/generated/sklearn.preprocessing.StandardScaler.html\n",
    "\n",
    "# normalize_or_standardize = 'standardize'\n",
    "\n",
    "# # If we want to Normalize\n",
    "# if normalize_or_standardize == 'normalize':\n",
    "#     scaler = MinMaxScaler(feature_range=(0,1))\n",
    "\n",
    "# # If we want to standardize \n",
    "# if normalize_or_standardize == 'standardize':\n",
    "#     scaler = StandardScaler()\n",
    "    \n",
    "# train_data_input['DebtRatio'] = scaler.fit_transform(train_data_input[['DebtRatio']])\n",
    "# train_data_input['DebtRatio'].describe()\n"
   ]
  },
  {
   "cell_type": "markdown",
   "metadata": {},
   "source": [
    "### MonthlyIncome"
   ]
  },
  {
   "cell_type": "markdown",
   "metadata": {},
   "source": [
    "#### Visualizing distribution of MonthlyIncome"
   ]
  },
  {
   "cell_type": "code",
   "execution_count": 64,
   "metadata": {},
   "outputs": [
    {
     "data": {
      "text/plain": [
       "count    1.202690e+05\n",
       "mean     6.670221e+03\n",
       "std      1.438467e+04\n",
       "min      0.000000e+00\n",
       "25%      3.400000e+03\n",
       "50%      5.400000e+03\n",
       "75%      8.249000e+03\n",
       "max      3.008750e+06\n",
       "Name: MonthlyIncome, dtype: float64"
      ]
     },
     "execution_count": 64,
     "metadata": {},
     "output_type": "execute_result"
    }
   ],
   "source": [
    "train_data_input['MonthlyIncome'].describe()"
   ]
  },
  {
   "cell_type": "code",
   "execution_count": 65,
   "metadata": {},
   "outputs": [
    {
     "data": {
      "text/plain": [
       "<matplotlib.axes._subplots.AxesSubplot at 0x7fc7ae0956a0>"
      ]
     },
     "execution_count": 65,
     "metadata": {},
     "output_type": "execute_result"
    },
    {
     "data": {
      "image/png": "[encoded data removed]",
      "text/plain": [
       "<Figure size 432x288 with 1 Axes>"
      ]
     },
     "metadata": {},
     "output_type": "display_data"
    }
   ],
   "source": [
    "train_data_input[train_data_input['MonthlyIncome']<5000]['MonthlyIncome'].plot.hist(edgecolor = 'Black')"
   ]
  },
  {
   "cell_type": "code",
   "execution_count": 66,
   "metadata": {},
   "outputs": [
    {
     "data": {
      "text/plain": [
       "<matplotlib.axes._subplots.AxesSubplot at 0x7fc7b11ba710>"
      ]
     },
     "execution_count": 66,
     "metadata": {},
     "output_type": "execute_result"
    },
    {
     "data": {
      "image/png": "[encoded data removed]",
      "text/plain": [
       "<Figure size 432x288 with 1 Axes>"
      ]
     },
     "metadata": {},
     "output_type": "display_data"
    }
   ],
   "source": [
    "train_data_input[['MonthlyIncome']].boxplot()"
   ]
  },
  {
   "cell_type": "markdown",
   "metadata": {},
   "source": [
    "#### Handling Extreme Values/Outliers"
   ]
  },
  {
   "cell_type": "code",
   "execution_count": 67,
   "metadata": {},
   "outputs": [],
   "source": [
    "# # Approach 1: Adaptive Bin based approach, divide data into four bins based on percentile; \n",
    "# #             0-25%, 25%-50%, 50%-75% and 75%-100%\n",
    "\n",
    "# total_bins = 4\n",
    "# train_data_input['MonthlyIncome'] = pd.qcut(train_data_input['MonthlyIncome'],\n",
    "#                                             q=total_bins, \n",
    "#                                             labels=[i+1 for i in range(total_bins)])\n",
    "\n",
    "# train_data_input['MonthlyIncome'].describe()"
   ]
  },
  {
   "cell_type": "code",
   "execution_count": 68,
   "metadata": {},
   "outputs": [],
   "source": [
    "# # Approach 2: Do Extreme Value Analysis and impute outliers with the highest/lowest value respectively\n",
    "\n",
    "# q1 = train_data_input['MonthlyIncome'].describe()['25%']\n",
    "# q3 = train_data_input['MonthlyIncome'].describe()['75%']\n",
    "# iqr = round(q3 - q1,2)\n",
    "\n",
    "# upper_outlier_data = q3 + 1.5*iqr\n",
    "# lower_outlier_data = q1 - 1.5*iqr\n",
    "\n",
    "# upper_valid_data = train_data_input[train_data_input['MonthlyIncome'] < upper_outlier_data]['MonthlyIncome'].max()\n",
    "# lower_valid_data = train_data_input[train_data_input['MonthlyIncome'] > lower_outlier_data]['MonthlyIncome'].min()\n",
    "\n",
    "# train_data_input.loc[train_data_input['MonthlyIncome'] > upper_outlier_data,'MonthlyIncome']=upper_valid_data\n",
    "# train_data_input.loc[train_data_input['MonthlyIncome'] < lower_outlier_data,'MonthlyIncome']=lower_valid_data\n",
    "\n",
    "# train_data_input['MonthlyIncome'].describe()"
   ]
  },
  {
   "cell_type": "markdown",
   "metadata": {},
   "source": [
    "#### Note for MonthlyIncome"
   ]
  },
  {
   "cell_type": "code",
   "execution_count": 69,
   "metadata": {},
   "outputs": [],
   "source": [
    "# Using either Approach 1 or 2, we found that the performance of the Logistic Model decreased. As a result ...\n",
    "# ... of it we are keeping the feature as it is without making any changes to it."
   ]
  },
  {
   "cell_type": "markdown",
   "metadata": {},
   "source": [
    "### NumberOfOpenCreditLinesAndLoans"
   ]
  },
  {
   "cell_type": "markdown",
   "metadata": {},
   "source": [
    "#### Visualizing distribution of NumberOfOpenCreditLinesAndLoans"
   ]
  },
  {
   "cell_type": "code",
   "execution_count": 70,
   "metadata": {},
   "outputs": [
    {
     "data": {
      "text/plain": [
       "count    150000.000000\n",
       "mean          8.452760\n",
       "std           5.145951\n",
       "min           0.000000\n",
       "25%           5.000000\n",
       "50%           8.000000\n",
       "75%          11.000000\n",
       "max          58.000000\n",
       "Name: NumberOfOpenCreditLinesAndLoans, dtype: float64"
      ]
     },
     "execution_count": 70,
     "metadata": {},
     "output_type": "execute_result"
    }
   ],
   "source": [
    "train_data_input['NumberOfOpenCreditLinesAndLoans'].describe()"
   ]
  },
  {
   "cell_type": "code",
   "execution_count": 71,
   "metadata": {},
   "outputs": [
    {
     "data": {
      "text/plain": [
       "<matplotlib.axes._subplots.AxesSubplot at 0x7fc7a29b74e0>"
      ]
     },
     "execution_count": 71,
     "metadata": {},
     "output_type": "execute_result"
    },
    {
     "data": {
      "image/png": "[encoded data removed]",
      "text/plain": [
       "<Figure size 432x288 with 1 Axes>"
      ]
     },
     "metadata": {},
     "output_type": "display_data"
    }
   ],
   "source": [
    "train_data_input['NumberOfOpenCreditLinesAndLoans'].plot.hist(edgecolor='Black')"
   ]
  },
  {
   "cell_type": "code",
   "execution_count": 72,
   "metadata": {},
   "outputs": [
    {
     "data": {
      "text/plain": [
       "<matplotlib.axes._subplots.AxesSubplot at 0x7fc7a298aef0>"
      ]
     },
     "execution_count": 72,
     "metadata": {},
     "output_type": "execute_result"
    },
    {
     "data": {
      "image/png": "[encoded data removed]",
      "text/plain": [
       "<Figure size 432x288 with 1 Axes>"
      ]
     },
     "metadata": {},
     "output_type": "display_data"
    }
   ],
   "source": [
    "train_data_input[['NumberOfOpenCreditLinesAndLoans']].boxplot()"
   ]
  },
  {
   "cell_type": "markdown",
   "metadata": {},
   "source": [
    "#### Binning of NumberOfOpenCreditLinesAndLoans feature"
   ]
  },
  {
   "cell_type": "code",
   "execution_count": 73,
   "metadata": {},
   "outputs": [],
   "source": [
    "# number_of_bins = 4\n",
    "\n",
    "# train_data_input['NumberOfOpenCreditLinesAndLoans'] = pd.qcut(train_data_input['NumberOfOpenCreditLinesAndLoans'],\n",
    "#                                                              q = number_of_bins,\n",
    "#                                                              labels = [i for i in range(number_of_bins)])\n",
    "\n",
    "# train_data_input['NumberOfOpenCreditLinesAndLoans'].describe()"
   ]
  },
  {
   "cell_type": "markdown",
   "metadata": {},
   "source": [
    "#### Imputing of NumberOfOpenCreditLinesAndLoans feature"
   ]
  },
  {
   "cell_type": "code",
   "execution_count": 74,
   "metadata": {},
   "outputs": [],
   "source": [
    "# q1 = round(train_data_input['NumberOfOpenCreditLinesAndLoans'].describe()['25%'],2)\n",
    "# q3 = round(train_data_input['NumberOfOpenCreditLinesAndLoans'].describe()['75%'],2)\n",
    "# iqr = q3-q1\n",
    "\n",
    "# valid_upper_range = q3 + 1.5*iqr\n",
    "# valid_lower_range = q1 - 1.5*iqr\n",
    "\n",
    "# print(q1,q3,iqr,valid_upper_range,valid_lower_range)\n",
    "\n",
    "# valid_upper_val = train_data_input[train_data_input['NumberOfOpenCreditLinesAndLoans'] < valid_upper_range]['NumberOfOpenCreditLinesAndLoans'].max()\n",
    "# valid_lower_val = train_data_input[train_data_input['NumberOfOpenCreditLinesAndLoans'] > valid_lower_range]['NumberOfOpenCreditLinesAndLoans'].min()\n",
    "\n",
    "# print(valid_upper_val,valid_lower_val)\n",
    "\n",
    "# train_data_input.loc[train_data_input['NumberOfOpenCreditLinesAndLoans'] > valid_upper_val,'NumberOfOpenCreditLinesAndLoans'] = valid_upper_val\n",
    "# train_data_input.loc[train_data_input['NumberOfOpenCreditLinesAndLoans'] < valid_lower_val,'NumberOfOpenCreditLinesAndLoans'] = valid_lower_val\n",
    "\n",
    "# print(train_data_input['NumberOfOpenCreditLinesAndLoans'].describe())"
   ]
  },
  {
   "cell_type": "markdown",
   "metadata": {},
   "source": [
    "#### Note for NumberOfOpenCreditLinesAndLoans feature"
   ]
  },
  {
   "cell_type": "code",
   "execution_count": 75,
   "metadata": {},
   "outputs": [],
   "source": [
    "# Using either Approach of Binning or Imputation, we found that the performance of the Logistic Model decreased ...\n",
    "# ... (only Recall increased by 1% in Imputataion approach). As a result of it we are keeping the feature as it is ...\n",
    "# ... without making any changes to it."
   ]
  },
  {
   "cell_type": "markdown",
   "metadata": {},
   "source": [
    "### NumberRealEstateLoansOrLines\t"
   ]
  },
  {
   "cell_type": "markdown",
   "metadata": {},
   "source": [
    "#### Visually analyzing NumberRealEstateLoansOrLines feature"
   ]
  },
  {
   "cell_type": "code",
   "execution_count": 76,
   "metadata": {},
   "outputs": [
    {
     "data": {
      "text/plain": [
       "count    150000.000000\n",
       "mean          1.018240\n",
       "std           1.129771\n",
       "min           0.000000\n",
       "25%           0.000000\n",
       "50%           1.000000\n",
       "75%           2.000000\n",
       "max          54.000000\n",
       "Name: NumberRealEstateLoansOrLines, dtype: float64"
      ]
     },
     "execution_count": 76,
     "metadata": {},
     "output_type": "execute_result"
    }
   ],
   "source": [
    "train_data_input['NumberRealEstateLoansOrLines'].describe()"
   ]
  },
  {
   "cell_type": "code",
   "execution_count": 77,
   "metadata": {},
   "outputs": [
    {
     "data": {
      "text/plain": [
       "<matplotlib.axes._subplots.AxesSubplot at 0x7fc7a2910860>"
      ]
     },
     "execution_count": 77,
     "metadata": {},
     "output_type": "execute_result"
    },
    {
     "data": {
      "image/png": "[encoded data removed]",
      "text/plain": [
       "<Figure size 432x288 with 1 Axes>"
      ]
     },
     "metadata": {},
     "output_type": "display_data"
    }
   ],
   "source": [
    "train_data_input[train_data_input['NumberRealEstateLoansOrLines']>30]['NumberRealEstateLoansOrLines'].plot.hist(edgecolor='Black')\n"
   ]
  },
  {
   "cell_type": "code",
   "execution_count": 78,
   "metadata": {},
   "outputs": [
    {
     "data": {
      "text/plain": [
       "<matplotlib.axes._subplots.AxesSubplot at 0x7fc7a286e9b0>"
      ]
     },
     "execution_count": 78,
     "metadata": {},
     "output_type": "execute_result"
    },
    {
     "data": {
      "image/png": "[encoded data removed]",
      "text/plain": [
       "<Figure size 432x288 with 1 Axes>"
      ]
     },
     "metadata": {},
     "output_type": "display_data"
    }
   ],
   "source": [
    "train_data_input[['NumberRealEstateLoansOrLines']].boxplot()"
   ]
  },
  {
   "cell_type": "markdown",
   "metadata": {},
   "source": [
    "#### Binning outliers of NumberRealEstateLoansOrLines feature"
   ]
  },
  {
   "cell_type": "code",
   "execution_count": 79,
   "metadata": {},
   "outputs": [],
   "source": [
    "# # qcut based approach is not great for the distribution that NumberRealEstateLoansOrLines has.\n",
    "# # Its min value is 25% both zero, this cuases duplicates in bin range if we use a quratile (i.e. 4 quantiles)\n",
    "# # based approach. We can reduce the number of bins and use the `duplicates='drop'` setting but still it does\n",
    "# # not seem to be a great alternative. So we will try setting custom bins\n",
    "\n",
    "# bins = 2\n",
    "# train_data_input['NumberRealEstateLoansOrLines'] = pd.qcut(train_data_input['NumberRealEstateLoansOrLines'],\n",
    "#                                                           q = bins,\n",
    "#                                                           labels = [i for i in range(bins)],\n",
    "#                                                           duplicates = 'drop')"
   ]
  },
  {
   "cell_type": "code",
   "execution_count": 80,
   "metadata": {},
   "outputs": [],
   "source": [
    "# # Custom binning\n",
    "# # 0 : 0\n",
    "# # (0,1]: 1\n",
    "# # (1,2] : 2\n",
    "# # (2,5] : 3\n",
    "# # (5,10] : 4\n",
    "# # (10,20] : 5\n",
    "# # (20,30] : 6\n",
    "# # (30,] : 7\n",
    "\n",
    "# var_name = 'NumberRealEstateLoansOrLines'\n",
    "# train_data_input[var_name] = np.where(train_data_input[var_name] > 30, 7,\n",
    "#                                      np.where(train_data_input[var_name] > 20, 6,\n",
    "#                                              np.where(train_data_input[var_name] > 10, 5,\n",
    "#                                                      np.where(train_data_input[var_name] > 5, 4,\n",
    "#                                                              np.where(train_data_input[var_name] > 2, 3,\n",
    "#                                                                      np.where(train_data_input[var_name] > 1, 2,\n",
    "#                                                                              np.where(train_data_input[var_name] > 0, 1, 0)))))))\n",
    "\n",
    "# train_data_input[var_name].describe()"
   ]
  },
  {
   "cell_type": "markdown",
   "metadata": {},
   "source": [
    "#### Imputing outliers of NumberRealEstateLoansOrLines feature"
   ]
  },
  {
   "cell_type": "code",
   "execution_count": 81,
   "metadata": {},
   "outputs": [],
   "source": [
    "# q1 = round(train_data_input['NumberRealEstateLoansOrLines'].describe()['25%'],2)\n",
    "# q3 = round(train_data_input['NumberRealEstateLoansOrLines'].describe()['75%'],2)\n",
    "\n",
    "# iqr = q3-q1\n",
    "\n",
    "# valid_upper_val = q3 + 1.5*iqr\n",
    "# valid_lower_val = q1 - 1.5*iqr\n",
    "\n",
    "# max_upper_val = train_data_input[train_data_input['NumberRealEstateLoansOrLines'] < valid_upper_val]['NumberRealEstateLoansOrLines'].max()\n",
    "# min_lower_val = train_data_input[train_data_input['NumberRealEstateLoansOrLines'] > valid_lower_val]['NumberRealEstateLoansOrLines'].min()\n",
    "\n",
    "# train_data_input.loc[train_data_input['NumberRealEstateLoansOrLines'] > max_upper_val,'NumberRealEstateLoansOrLines'] = max_upper_val\n",
    "# train_data_input.loc[train_data_input['NumberRealEstateLoansOrLines'] < min_lower_val,'NumberRealEstateLoansOrLines'] = min_lower_val\n",
    "\n",
    "# train_data_input['NumberRealEstateLoansOrLines'].describe()"
   ]
  },
  {
   "cell_type": "markdown",
   "metadata": {},
   "source": [
    "#### Note for NumberRealEstateLoansOrLines feature"
   ]
  },
  {
   "cell_type": "code",
   "execution_count": 82,
   "metadata": {},
   "outputs": [],
   "source": [
    "# Using either Approach of Binning or Imputation, we found that the performance of the Logistic Model decreased. ...\n",
    "# ... As a result of it we are keeping the feature of NumberRealEstateLoansOrLines as it is without making any ...\n",
    "# ... changes to it."
   ]
  },
  {
   "cell_type": "markdown",
   "metadata": {},
   "source": [
    "### NumberOfDependents"
   ]
  },
  {
   "cell_type": "code",
   "execution_count": 83,
   "metadata": {},
   "outputs": [
    {
     "data": {
      "text/plain": [
       "count    146076.000000\n",
       "mean          0.757222\n",
       "std           1.115086\n",
       "min           0.000000\n",
       "25%           0.000000\n",
       "50%           0.000000\n",
       "75%           1.000000\n",
       "max          20.000000\n",
       "Name: NumberOfDependents, dtype: float64"
      ]
     },
     "execution_count": 83,
     "metadata": {},
     "output_type": "execute_result"
    }
   ],
   "source": [
    "train_data_input['NumberOfDependents'].describe()"
   ]
  },
  {
   "cell_type": "code",
   "execution_count": 84,
   "metadata": {},
   "outputs": [
    {
     "data": {
      "text/plain": [
       "<matplotlib.axes._subplots.AxesSubplot at 0x7fc7a284eef0>"
      ]
     },
     "execution_count": 84,
     "metadata": {},
     "output_type": "execute_result"
    },
    {
     "data": {
      "image/png": "[encoded data removed]",
      "text/plain": [
       "<Figure size 432x288 with 1 Axes>"
      ]
     },
     "metadata": {},
     "output_type": "display_data"
    }
   ],
   "source": [
    "train_data_input['NumberOfDependents'].plot.hist(edgecolor='red')"
   ]
  },
  {
   "cell_type": "code",
   "execution_count": 85,
   "metadata": {},
   "outputs": [
    {
     "data": {
      "text/plain": [
       "[0.0, 1.0, 2.0, nan, 3.0, 4.0, 5.0, 6.0, 7.0, 8.0, 9.0, 10.0, 13.0, 20.0]"
      ]
     },
     "execution_count": 85,
     "metadata": {},
     "output_type": "execute_result"
    }
   ],
   "source": [
    "sorted(train_data_input['NumberOfDependents'].unique())"
   ]
  },
  {
   "cell_type": "code",
   "execution_count": 86,
   "metadata": {},
   "outputs": [
    {
     "data": {
      "text/plain": [
       "<matplotlib.axes._subplots.AxesSubplot at 0x7fc7a27c4048>"
      ]
     },
     "execution_count": 86,
     "metadata": {},
     "output_type": "execute_result"
    },
    {
     "data": {
      "image/png": "[encoded data removed]",
      "text/plain": [
       "<Figure size 432x288 with 1 Axes>"
      ]
     },
     "metadata": {},
     "output_type": "display_data"
    }
   ],
   "source": [
    "train_data_input[['NumberOfDependents']].boxplot()"
   ]
  },
  {
   "cell_type": "markdown",
   "metadata": {},
   "source": [
    "#### Approach 1: Binning outliers of NumberOfDependents"
   ]
  },
  {
   "cell_type": "code",
   "execution_count": 87,
   "metadata": {},
   "outputs": [],
   "source": [
    "# # Customized Bins\n",
    "# #0 : 0\n",
    "# # (0,1] : 1\n",
    "# # (1,2] : 2\n",
    "# # (2,3] : 3\n",
    "# # (3,4] : 4\n",
    "# # (4,5] : 5\n",
    "# # (5,10] : 6\n",
    "# # (10,20]: 7\n",
    "# # (20,] : 8\n",
    "\n",
    "\n",
    "# train_data_input['NumberOfDependents'] = np.where(train_data_input['NumberOfDependents']>20,8,\n",
    "#                                                  np.where(train_data_input['NumberOfDependents']>10,7,\n",
    "#                                                          np.where(train_data_input['NumberOfDependents']>5,6,\n",
    "#                                                                  np.where(train_data_input['NumberOfDependents']>4,5,\n",
    "#                                                                          np.where(train_data_input['NumberOfDependents']>3,4,\n",
    "#                                                                                  np.where(train_data_input['NumberOfDependents']>2,3,\n",
    "#                                                                                          np.where(train_data_input['NumberOfDependents']>1,2,\n",
    "#                                                                                                  np.where(train_data_input['NumberOfDependents']>0,1,0))))))))\n",
    "\n",
    "\n",
    "# train_data_input['NumberOfDependents'].describe()"
   ]
  },
  {
   "cell_type": "markdown",
   "metadata": {},
   "source": [
    "#### Approach 2: Impute outliers of NumberOfDependents"
   ]
  },
  {
   "cell_type": "code",
   "execution_count": 88,
   "metadata": {},
   "outputs": [],
   "source": [
    "# q1 = round(train_data_input['NumberOfDependents'].describe()['25%'],2)\n",
    "# q3 = round(train_data_input['NumberOfDependents'].describe()['75%'],2)\n",
    "\n",
    "# iqr = q3 - q1\n",
    "\n",
    "# max_upper_val = q3 + 1.5*iqr\n",
    "# min_lower_val = q1 - 1.5*iqr\n",
    "\n",
    "# valid_upper_val = train_data_input[train_data_input['NumberOfDependents'] < max_upper_val]['NumberOfDependents'].max()\n",
    "# valid_lower_val = train_data_input[train_data_input['NumberOfDependents'] > min_lower_val]['NumberOfDependents'].min()\n",
    "\n",
    "# train_data_input.loc[train_data_input['NumberOfDependents'] > valid_upper_val, 'NumberOfDependents'] = valid_upper_val\n",
    "# train_data_input.loc[train_data_input['NumberOfDependents'] < valid_lower_val, 'NumberOfDependents'] = valid_lower_val\n",
    "\n",
    "# train_data_input['NumberOfDependents'].describe()"
   ]
  },
  {
   "cell_type": "markdown",
   "metadata": {},
   "source": [
    "#### Note for NumberOfDependents feature"
   ]
  },
  {
   "cell_type": "code",
   "execution_count": 89,
   "metadata": {},
   "outputs": [],
   "source": [
    "\n",
    "# Using either Approach of Binning or Imputation, we found that the performance of the Logistic Model decreased. ...\n",
    "# ... As a result of it we are keeping the feature of NumberOfDependents as it is without making any ...\n",
    "# ... changes to it."
   ]
  },
  {
   "cell_type": "markdown",
   "metadata": {},
   "source": [
    "## Documenting Experience on Data Preprocessing"
   ]
  },
  {
   "cell_type": "code",
   "execution_count": 90,
   "metadata": {},
   "outputs": [],
   "source": [
    "## What we Did (correlation checking, outiler handling (binning, imputataion)), \n",
    "## What we did not (removing outliers, sampling, think more here ...)\n",
    "## What we could not (handling missing data as the dataset had no missing data, think more here ...)"
   ]
  },
  {
   "cell_type": "markdown",
   "metadata": {},
   "source": [
    "## Build Logistic Regression Model"
   ]
  },
  {
   "cell_type": "code",
   "execution_count": 91,
   "metadata": {},
   "outputs": [],
   "source": [
    "# from sklearn.linear_model import LogisticRegression\n",
    "# from sklearn.metrics import classification_report\n",
    "\n",
    "# # Source: https://scikit-learn.org/stable/modules/generated/sklearn.linear_model.LogisticRegression.htmlp\n",
    "\n",
    "# # C : smaller values means strong regularization, default = 1\n",
    "# # C = 2 increases precision but decreases recall\n",
    "\n",
    "\n",
    "# # class_weight : it defines the penalty for miscalssyfing a given class, but default it is None, that is ...\n",
    "# #                ... all the class have equal weight. Alternativesly we can pass the a dictionary of weights ...\n",
    "# #                ... in argument. \n",
    "# # To caculate class_weight use following formula:\n",
    "# # weight_for_class_j = total_number_of_samples / (total_classes) * (number_of_smaples_for_class_j)\n",
    "# # Source: https://www.analyticsvidhya.com/blog/2020/10/improve-class-imbalance-class-weights/\n",
    "# #\n",
    "# # Note: if you state class_weight = 'balanced' then it will use the above formula to calculate class weight. ...\n",
    "# #       ... Otherwise, we can figure out using below:\n",
    "\n",
    "# calculated_class_weight = {}\n",
    "# total_classes = train_data_output['SeriousDlqin2yrs'].unique() \n",
    "# for class_ in total_classes:\n",
    "#     calculated_class_weight[class_] = round(len(train_data_output) / (len(total_classes)*\n",
    "#                                                                len(train_data_output\n",
    "#                                                                    [train_data_output['SeriousDlqin2yrs']==class_])),2)\n",
    "\n",
    "# # intercept_scaling : smaller values mean higher impact of regualarization on synthetic feature weight\n",
    "# # Not sure what exactly it does. Also, not sure if it is related to C which also is used for handling regularization.\n",
    "# # intercept_scaling_val = 4/1000\n",
    "# # Increasing its value higher than the default value of 1 does not have any impact on precision or recall. ...\n",
    "# # ... Decreasing its value down from 1, increases Recall and decreases Precision\n",
    "\n",
    "\n",
    "# # solver: For discussion on what solver to use for logistic regression look at below two resources:\n",
    "# # Source 1: https://towardsdatascience.com/dont-sweat-the-solver-stuff-aea7cddc3451\n",
    "# # Source 2: https://stackoverflow.com/questions/38640109/logistic-regression-python-solvers-defintions/52388406#52388406\n",
    "\n",
    "# model = LogisticRegression(class_weight = calculated_class_weight)\n",
    "\n",
    "    \n",
    "    "
   ]
  },
  {
   "cell_type": "markdown",
   "metadata": {},
   "source": [
    "## Build Random Forest Classifier Model"
   ]
  },
  {
   "cell_type": "code",
   "execution_count": 92,
   "metadata": {},
   "outputs": [],
   "source": [
    "from sklearn.ensemble import RandomForestClassifier\n",
    "from sklearn.model_selection import StratifiedKFold, GridSearchCV\n",
    "\n",
    "number_of_features = len(train_data_input.columns)\n",
    "model = RandomForestClassifier(n_estimators=10*number_of_features)\n",
    "\n",
    "# n_estimators = range(number_of_features,10*number_of_features,number_of_features)\n",
    "# param_grid = {'n_estimators':n_estimators}\n",
    "\n",
    "# kfold = StratifiedKFold(n_splits=5)\n",
    "# gridsearch = GridSearchCV(model,param_grid,cv=kfold)\n",
    "\n"
   ]
  },
  {
   "cell_type": "code",
   "execution_count": 93,
   "metadata": {},
   "outputs": [],
   "source": [
    "# train_data_input.fillna(value=0,inplace=True) was throwing `ValueError: fill value must be in categories`\n",
    "# What it means is that 0 is not already present in the columns having null values, this can be because the column \n",
    "# can be of different data type eg. string, float or so \n",
    "\n",
    "# We can overcome this error in two ways:\n",
    "# Approach 1. Add np.nan as a category in the columns: Source (https://stackoverflow.com/questions/53664948/pandas-fillna-throws-valueerror-fill-value-must-be-in-categories)\n",
    "# for column_having_nan_value in train_data_input.columns[train_data_input.isna().any()]:\n",
    "#     print(type(column_having_nan_value))\n",
    "#     train_data_input[column_having_nan_value] = train_data_input[column_having_nan_value].astype('category').cat.add_categories(0)\n",
    "#     train_data_input[column_having_nan_value].fillna(0,inplace=True)\n",
    "# Finding columns with nan values: Source (https://datatofish.com/columns-nan-pandas-dataframe/)\n",
    "# But the approach 1 did not worked because of categories related error\n",
    "\n",
    "#Approach 2: Use replace instead of fillna\n",
    "train_data_input.replace(np.nan,0,inplace=True)\n",
    "\n",
    "\n"
   ]
  },
  {
   "cell_type": "code",
   "execution_count": null,
   "metadata": {},
   "outputs": [],
   "source": [
    "model.fit(train_data_input,train_data_output)\n"
   ]
  },
  {
   "cell_type": "code",
   "execution_count": null,
   "metadata": {},
   "outputs": [],
   "source": [
    "file_name = 'RandomForestMLModel.sav'\n",
    "pickle.dump(model,open(file_name,'wb'))\n",
    "\n",
    "# Source: https://machinelearningmastery.com/save-load-machine-learning-models-python-scikit-learn/\n",
    "# Source: https://stackoverflow.com/questions/40982132/python-pickle-dump-wb-parameter#:~:text=It%20means%3A%20open%20for%20writing%20and%20open%20in%20binary%20mode.&text='wb'%20means%20'write%20binary,file%20handle%3A%20open('save."
   ]
  },
  {
   "cell_type": "code",
   "execution_count": null,
   "metadata": {},
   "outputs": [],
   "source": [
    "predicted_output = model.predict(train_data_input)"
   ]
  },
  {
   "cell_type": "code",
   "execution_count": null,
   "metadata": {},
   "outputs": [],
   "source": [
    "# Source: https://machinelearningmastery.com/calculate-feature-importance-with-python/\n",
    "# Source: https://scikit-learn.org/stable/modules/generated/sklearn.linear_model.LogisticRegression.html\n",
    "\n",
    "# If Model is LogisticRegression\n",
    "# feature_importances = model.coef_[0]\n",
    "\n",
    "# If Model is RandomForestClassifier\n",
    "feature_importances = model.feature_importances_\n",
    "\n",
    "feature_names = train_data_input.columns\n",
    "\n",
    "for counter, feature_importance in enumerate(feature_importances):\n",
    "    print(feature_names[counter],'\\n',round(feature_importance,2),'\\n')\n"
   ]
  },
  {
   "cell_type": "code",
   "execution_count": null,
   "metadata": {},
   "outputs": [],
   "source": [
    "# Source: https://stackoverflow.com/questions/40575067/matplotlib-bar-chart-space-out-bars/40575741\n",
    "matplotlib.pyplot.figure(figsize=(20,10))\n",
    "matplotlib.pyplot.bar([feature[:17] for feature in feature_names],feature_importances)\n",
    "matplotlib.pyplot.show()"
   ]
  },
  {
   "cell_type": "code",
   "execution_count": null,
   "metadata": {},
   "outputs": [],
   "source": [
    "print(classification_report(train_data_output['SeriousDlqin2yrs'],predicted_output))"
   ]
  },
  {
   "cell_type": "code",
   "execution_count": null,
   "metadata": {},
   "outputs": [],
   "source": [
    "auc_score = round(sklearn.metrics.roc_auc_score(train_data_output['SeriousDlqin2yrs'],predicted_output),2)\n",
    "print(auc_score)\n",
    "\n",
    "# fpr, tpr, thresholds = sklearn.metrics.roc_curve(train_data_output['SeriousDlqin2yrs'],predicted_output,pos_label=1)\n",
    "# print(sklearn.metrics.auc(fpr,tpr))\n",
    "# # Source: https://scikit-learn.org/stable/modules/generated/sklearn.metrics.auc.html"
   ]
  },
  {
   "cell_type": "markdown",
   "metadata": {},
   "source": [
    "##### [v1] Vanilla Logistic Regression has a Recall of 4% and a Precision of 55%. This will be our benchmark. "
   ]
  },
  {
   "cell_type": "markdown",
   "metadata": {},
   "source": [
    "##### [v2] After imputing outliers of `RevolvingUtilizationOfUnsecuredLines`, Recall increased to 5% (v.s. 4%) and Precision to 59% (v.s. 55%) for vanilla Logistic Regression.\n"
   ]
  },
  {
   "cell_type": "markdown",
   "metadata": {},
   "source": [
    "##### [v3] After imputing outliers for `age`, Recall increased to 6% (v.s. 5%) but Precision stayed at 59% compared to previous update.\n"
   ]
  },
  {
   "cell_type": "markdown",
   "metadata": {},
   "source": [
    "##### [v4] If we bin `age` through fixed width binning instead of doing outliers. The performance remains same as v2."
   ]
  },
  {
   "cell_type": "markdown",
   "metadata": {},
   "source": [
    "##### [v5] Adaptive Binning for `age` feature: Making a quartile based binning (i.e. 4 quantiles) the performance is same as v3. But making  it a decile based (i.e. 10 quantiles) the Recall stays at 6% but the Precision improves to 60% (v.s. 59%) compared to v3."
   ]
  },
  {
   "cell_type": "markdown",
   "metadata": {},
   "source": [
    "##### [v6] We found that the three features `NumberOfTime30-59DaysPastDueNotWorse`, `NumberOfTime60-89DaysPastDueNotWorse`, `NumberOfTimes90DaysLate` are highly correlated. So we dropped other two and kept just one. This results in Precision falling to 55% (v.s. 60%) and Recall falling to 1% (v.s. 6%) compared to v5\n"
   ]
  },
  {
   "cell_type": "markdown",
   "metadata": {},
   "source": [
    "##### [v7] If we bin three correlated features of `NumberOfTime30-59DaysPastDueNotWorse`, `NumberOfTime60-89DaysPastDueNotWorse` and `NumberOfTimes90DaysLate`,  Recall increases to 13% (v.s. 6%) and Precision stays at 60% compared to v5\n"
   ]
  },
  {
   "cell_type": "markdown",
   "metadata": {},
   "source": [
    "##### [v8] For `DebtRatio` feature, binning it drops to Recall to 12% (v.s. 13%) and maintains Precision at 60% compared to v7 "
   ]
  },
  {
   "cell_type": "markdown",
   "metadata": {},
   "source": [
    "##### [v9] Instead of binning if we impute the Outliers or Extreme Values of `DebtRatio` feature then the Precision stays at 60% but Recall increases to 14% (v.s. 13%) compared to v7"
   ]
  },
  {
   "cell_type": "markdown",
   "metadata": {},
   "source": [
    "##### [v10] On applying Standardization or Normalization on `DebtRatio` feature the Precision and Recall fall by a point reaching 59% (58% under Normalization) and 13% respectively  compared to v9"
   ]
  },
  {
   "cell_type": "markdown",
   "metadata": {},
   "source": [
    "##### [v11] On Binning `MonthlyIncome` data we found that the Recall stays at 14% but Precision drops to 59% (v.s. 60%) compared to v9."
   ]
  },
  {
   "cell_type": "markdown",
   "metadata": {},
   "source": [
    "##### [v12] Imputing `MonthlyIncome` outliers result in Recall dropping to 13% (v.s. 14%) and Precision drops to 59% (v.s. 60%) compared to v9."
   ]
  },
  {
   "cell_type": "markdown",
   "metadata": {},
   "source": [
    "##### [v13] Binning `NumberOfOpenCreditLinesAndLoans`  Recall drops to 11% (v.s. 14%) and Precision drops to 55% (v.s. 60%) compared to v9.\n"
   ]
  },
  {
   "cell_type": "markdown",
   "metadata": {},
   "source": [
    "##### [v14] Imputing `NumberOfOpenCreditLinesAndLoans` outliers result in Recall dropping to 11% (v.s. 14%) and Precision increasing to 61% (v.s. 60%) compared to v9.\n"
   ]
  },
  {
   "cell_type": "markdown",
   "metadata": {},
   "source": [
    "##### [v15] Custom Binning of `NumberRealEstateLoansOrLines` results in Precision dropping to 57% (v.s. 60%) and Recall dropping to 13% (v.s. 14%) compared to v9.\n",
    "\n"
   ]
  },
  {
   "cell_type": "markdown",
   "metadata": {},
   "source": [
    "##### [v16] Imputing outliers of `NumberRealEstateLoansOrLines` results in Precision dropping to 56% (v.s. 60%) and Recall dropping to 13% (v.s. 14%) compared to v9.\n",
    "\n"
   ]
  },
  {
   "cell_type": "markdown",
   "metadata": {},
   "source": [
    "#### [v17] On Binning the outliers of `NumberOfDependents` the Recall drops to 12% (v.s. 14%) and Precision drops to 57% (v.s. 60%) compared to v9"
   ]
  },
  {
   "cell_type": "markdown",
   "metadata": {},
   "source": [
    "#### [v18] On imputing the outliers of `NumberOfDependents` the Recall drops to 13% (v.s. 14%) and Precision remains at 60% compared to v9\n"
   ]
  },
  {
   "cell_type": "markdown",
   "metadata": {},
   "source": [
    "#### [v19] On filling Nan in `MonthlyIncome` through KNN (k=3) instead of value 0 the Recall drops to 13% (v.s. 14%) and Precision remains at 60% compared to v9\n"
   ]
  },
  {
   "cell_type": "markdown",
   "metadata": {},
   "source": [
    "#### [v20] On filling Nan in `NumberOfDependents` through KNN (k=3) instead of value 0 the Recall drops to 12% (v.s. 14%) and Precision drops to 57% (v.s. 60%) compared to v9\n"
   ]
  },
  {
   "cell_type": "markdown",
   "metadata": {},
   "source": [
    "#### [v21] Parameter Tuning: On changing the `class_weight` attribute to 'balanced' instead of default the recall jumped to 74% (v.s. 14%) and Precision dropped to 22% (v.s. 60%) compared to v9"
   ]
  },
  {
   "cell_type": "markdown",
   "metadata": {},
   "source": [
    "#### [v22] Implementing basic `RandomForestClassifier` increases Recall to 84% (v.s. 74%) and Precision to 99% (v.s. 22%) compared to v21\n",
    "\n"
   ]
  },
  {
   "cell_type": "markdown",
   "metadata": {},
   "source": [
    "#### [v23] Using v22's `RandomForestClassifier` results in a AUC of 0.76899 on Test Dataset\n",
    "\n"
   ]
  },
  {
   "cell_type": "markdown",
   "metadata": {},
   "source": [
    "#### [v24] Using `n_estimators=10*number_of_features` in `RandomForestClassifier` results in a AUC of 0.83158 on Test Dataset\n",
    "\n"
   ]
  },
  {
   "cell_type": "code",
   "execution_count": null,
   "metadata": {},
   "outputs": [],
   "source": []
  }
 ],
 "metadata": {
  "kernelspec": {
   "display_name": "Python 3",
   "language": "python",
   "name": "python3"
  },
  "language_info": {
   "codemirror_mode": {
    "name": "ipython",
    "version": 3
   },
   "file_extension": ".py",
   "mimetype": "text/x-python",
   "name": "python",
   "nbconvert_exporter": "python",
   "pygments_lexer": "ipython3",
   "version": "3.6.6"
  }
 },
 "nbformat": 4,
 "nbformat_minor": 2
}
