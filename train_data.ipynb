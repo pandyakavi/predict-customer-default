{
 "cells": [
  {
   "cell_type": "markdown",
   "metadata": {},
   "source": [
    "### To Do : ---"
   ]
  },
  {
   "cell_type": "code",
   "execution_count": 1,
   "metadata": {},
   "outputs": [],
   "source": [
    "import pandas as pd\n",
    "import os\n",
    "import matplotlib\n",
    "%matplotlib inline\n",
    "from collections import Counter\n",
    "from sklearn.linear_model import LogisticRegression\n",
    "from sklearn.metrics import classification_report\n",
    "import numpy as np\n",
    "import seaborn as sb\n",
    "\n",
    "import warnings\n",
    "warnings.filterwarnings(\"ignore\")\n"
   ]
  },
  {
   "cell_type": "code",
   "execution_count": 2,
   "metadata": {},
   "outputs": [],
   "source": [
    "# for dirname, _, filenames in os.walk('/mnt/'):\n",
    "#     for filename in filenames:\n",
    "#         print(os.path.join(dirname,filename))"
   ]
  },
  {
   "cell_type": "code",
   "execution_count": 3,
   "metadata": {},
   "outputs": [],
   "source": [
    "train_data = pd.read_csv('/mnt/cs-training.csv')"
   ]
  },
  {
   "cell_type": "code",
   "execution_count": 4,
   "metadata": {},
   "outputs": [
    {
     "data": {
      "text/html": [
       "<div>\n",
       "<style scoped>\n",
       "    .dataframe tbody tr th:only-of-type {\n",
       "        vertical-align: middle;\n",
       "    }\n",
       "\n",
       "    .dataframe tbody tr th {\n",
       "        vertical-align: top;\n",
       "    }\n",
       "\n",
       "    .dataframe thead th {\n",
       "        text-align: right;\n",
       "    }\n",
       "</style>\n",
       "<table border=\"1\" class=\"dataframe\">\n",
       "  <thead>\n",
       "    <tr style=\"text-align: right;\">\n",
       "      <th></th>\n",
       "      <th>Unnamed: 0</th>\n",
       "      <th>SeriousDlqin2yrs</th>\n",
       "      <th>RevolvingUtilizationOfUnsecuredLines</th>\n",
       "      <th>age</th>\n",
       "      <th>NumberOfTime30-59DaysPastDueNotWorse</th>\n",
       "      <th>DebtRatio</th>\n",
       "      <th>MonthlyIncome</th>\n",
       "      <th>NumberOfOpenCreditLinesAndLoans</th>\n",
       "      <th>NumberOfTimes90DaysLate</th>\n",
       "      <th>NumberRealEstateLoansOrLines</th>\n",
       "      <th>NumberOfTime60-89DaysPastDueNotWorse</th>\n",
       "      <th>NumberOfDependents</th>\n",
       "    </tr>\n",
       "  </thead>\n",
       "  <tbody>\n",
       "    <tr>\n",
       "      <th>0</th>\n",
       "      <td>1</td>\n",
       "      <td>1</td>\n",
       "      <td>0.766127</td>\n",
       "      <td>45</td>\n",
       "      <td>2</td>\n",
       "      <td>0.802982</td>\n",
       "      <td>9120.0</td>\n",
       "      <td>13</td>\n",
       "      <td>0</td>\n",
       "      <td>6</td>\n",
       "      <td>0</td>\n",
       "      <td>2.0</td>\n",
       "    </tr>\n",
       "    <tr>\n",
       "      <th>1</th>\n",
       "      <td>2</td>\n",
       "      <td>0</td>\n",
       "      <td>0.957151</td>\n",
       "      <td>40</td>\n",
       "      <td>0</td>\n",
       "      <td>0.121876</td>\n",
       "      <td>2600.0</td>\n",
       "      <td>4</td>\n",
       "      <td>0</td>\n",
       "      <td>0</td>\n",
       "      <td>0</td>\n",
       "      <td>1.0</td>\n",
       "    </tr>\n",
       "    <tr>\n",
       "      <th>2</th>\n",
       "      <td>3</td>\n",
       "      <td>0</td>\n",
       "      <td>0.658180</td>\n",
       "      <td>38</td>\n",
       "      <td>1</td>\n",
       "      <td>0.085113</td>\n",
       "      <td>3042.0</td>\n",
       "      <td>2</td>\n",
       "      <td>1</td>\n",
       "      <td>0</td>\n",
       "      <td>0</td>\n",
       "      <td>0.0</td>\n",
       "    </tr>\n",
       "    <tr>\n",
       "      <th>3</th>\n",
       "      <td>4</td>\n",
       "      <td>0</td>\n",
       "      <td>0.233810</td>\n",
       "      <td>30</td>\n",
       "      <td>0</td>\n",
       "      <td>0.036050</td>\n",
       "      <td>3300.0</td>\n",
       "      <td>5</td>\n",
       "      <td>0</td>\n",
       "      <td>0</td>\n",
       "      <td>0</td>\n",
       "      <td>0.0</td>\n",
       "    </tr>\n",
       "    <tr>\n",
       "      <th>4</th>\n",
       "      <td>5</td>\n",
       "      <td>0</td>\n",
       "      <td>0.907239</td>\n",
       "      <td>49</td>\n",
       "      <td>1</td>\n",
       "      <td>0.024926</td>\n",
       "      <td>63588.0</td>\n",
       "      <td>7</td>\n",
       "      <td>0</td>\n",
       "      <td>1</td>\n",
       "      <td>0</td>\n",
       "      <td>0.0</td>\n",
       "    </tr>\n",
       "  </tbody>\n",
       "</table>\n",
       "</div>"
      ],
      "text/plain": [
       "   Unnamed: 0  SeriousDlqin2yrs  RevolvingUtilizationOfUnsecuredLines  age  \\\n",
       "0           1                 1                              0.766127   45   \n",
       "1           2                 0                              0.957151   40   \n",
       "2           3                 0                              0.658180   38   \n",
       "3           4                 0                              0.233810   30   \n",
       "4           5                 0                              0.907239   49   \n",
       "\n",
       "   NumberOfTime30-59DaysPastDueNotWorse  DebtRatio  MonthlyIncome  \\\n",
       "0                                     2   0.802982         9120.0   \n",
       "1                                     0   0.121876         2600.0   \n",
       "2                                     1   0.085113         3042.0   \n",
       "3                                     0   0.036050         3300.0   \n",
       "4                                     1   0.024926        63588.0   \n",
       "\n",
       "   NumberOfOpenCreditLinesAndLoans  NumberOfTimes90DaysLate  \\\n",
       "0                               13                        0   \n",
       "1                                4                        0   \n",
       "2                                2                        1   \n",
       "3                                5                        0   \n",
       "4                                7                        0   \n",
       "\n",
       "   NumberRealEstateLoansOrLines  NumberOfTime60-89DaysPastDueNotWorse  \\\n",
       "0                             6                                     0   \n",
       "1                             0                                     0   \n",
       "2                             0                                     0   \n",
       "3                             0                                     0   \n",
       "4                             1                                     0   \n",
       "\n",
       "   NumberOfDependents  \n",
       "0                 2.0  \n",
       "1                 1.0  \n",
       "2                 0.0  \n",
       "3                 0.0  \n",
       "4                 0.0  "
      ]
     },
     "execution_count": 4,
     "metadata": {},
     "output_type": "execute_result"
    }
   ],
   "source": [
    "train_data.head()"
   ]
  },
  {
   "cell_type": "code",
   "execution_count": 5,
   "metadata": {},
   "outputs": [],
   "source": [
    "train_data_input = train_data.loc[:,~train_data.columns.isin(['Unnamed: 0','SeriousDlqin2yrs'])]"
   ]
  },
  {
   "cell_type": "code",
   "execution_count": 6,
   "metadata": {},
   "outputs": [
    {
     "data": {
      "text/html": [
       "<div>\n",
       "<style scoped>\n",
       "    .dataframe tbody tr th:only-of-type {\n",
       "        vertical-align: middle;\n",
       "    }\n",
       "\n",
       "    .dataframe tbody tr th {\n",
       "        vertical-align: top;\n",
       "    }\n",
       "\n",
       "    .dataframe thead th {\n",
       "        text-align: right;\n",
       "    }\n",
       "</style>\n",
       "<table border=\"1\" class=\"dataframe\">\n",
       "  <thead>\n",
       "    <tr style=\"text-align: right;\">\n",
       "      <th></th>\n",
       "      <th>RevolvingUtilizationOfUnsecuredLines</th>\n",
       "      <th>age</th>\n",
       "      <th>NumberOfTime30-59DaysPastDueNotWorse</th>\n",
       "      <th>DebtRatio</th>\n",
       "      <th>MonthlyIncome</th>\n",
       "      <th>NumberOfOpenCreditLinesAndLoans</th>\n",
       "      <th>NumberOfTimes90DaysLate</th>\n",
       "      <th>NumberRealEstateLoansOrLines</th>\n",
       "      <th>NumberOfTime60-89DaysPastDueNotWorse</th>\n",
       "      <th>NumberOfDependents</th>\n",
       "    </tr>\n",
       "  </thead>\n",
       "  <tbody>\n",
       "    <tr>\n",
       "      <th>0</th>\n",
       "      <td>0.766127</td>\n",
       "      <td>45</td>\n",
       "      <td>2</td>\n",
       "      <td>0.802982</td>\n",
       "      <td>9120.0</td>\n",
       "      <td>13</td>\n",
       "      <td>0</td>\n",
       "      <td>6</td>\n",
       "      <td>0</td>\n",
       "      <td>2.0</td>\n",
       "    </tr>\n",
       "    <tr>\n",
       "      <th>1</th>\n",
       "      <td>0.957151</td>\n",
       "      <td>40</td>\n",
       "      <td>0</td>\n",
       "      <td>0.121876</td>\n",
       "      <td>2600.0</td>\n",
       "      <td>4</td>\n",
       "      <td>0</td>\n",
       "      <td>0</td>\n",
       "      <td>0</td>\n",
       "      <td>1.0</td>\n",
       "    </tr>\n",
       "    <tr>\n",
       "      <th>2</th>\n",
       "      <td>0.658180</td>\n",
       "      <td>38</td>\n",
       "      <td>1</td>\n",
       "      <td>0.085113</td>\n",
       "      <td>3042.0</td>\n",
       "      <td>2</td>\n",
       "      <td>1</td>\n",
       "      <td>0</td>\n",
       "      <td>0</td>\n",
       "      <td>0.0</td>\n",
       "    </tr>\n",
       "    <tr>\n",
       "      <th>3</th>\n",
       "      <td>0.233810</td>\n",
       "      <td>30</td>\n",
       "      <td>0</td>\n",
       "      <td>0.036050</td>\n",
       "      <td>3300.0</td>\n",
       "      <td>5</td>\n",
       "      <td>0</td>\n",
       "      <td>0</td>\n",
       "      <td>0</td>\n",
       "      <td>0.0</td>\n",
       "    </tr>\n",
       "    <tr>\n",
       "      <th>4</th>\n",
       "      <td>0.907239</td>\n",
       "      <td>49</td>\n",
       "      <td>1</td>\n",
       "      <td>0.024926</td>\n",
       "      <td>63588.0</td>\n",
       "      <td>7</td>\n",
       "      <td>0</td>\n",
       "      <td>1</td>\n",
       "      <td>0</td>\n",
       "      <td>0.0</td>\n",
       "    </tr>\n",
       "  </tbody>\n",
       "</table>\n",
       "</div>"
      ],
      "text/plain": [
       "   RevolvingUtilizationOfUnsecuredLines  age  \\\n",
       "0                              0.766127   45   \n",
       "1                              0.957151   40   \n",
       "2                              0.658180   38   \n",
       "3                              0.233810   30   \n",
       "4                              0.907239   49   \n",
       "\n",
       "   NumberOfTime30-59DaysPastDueNotWorse  DebtRatio  MonthlyIncome  \\\n",
       "0                                     2   0.802982         9120.0   \n",
       "1                                     0   0.121876         2600.0   \n",
       "2                                     1   0.085113         3042.0   \n",
       "3                                     0   0.036050         3300.0   \n",
       "4                                     1   0.024926        63588.0   \n",
       "\n",
       "   NumberOfOpenCreditLinesAndLoans  NumberOfTimes90DaysLate  \\\n",
       "0                               13                        0   \n",
       "1                                4                        0   \n",
       "2                                2                        1   \n",
       "3                                5                        0   \n",
       "4                                7                        0   \n",
       "\n",
       "   NumberRealEstateLoansOrLines  NumberOfTime60-89DaysPastDueNotWorse  \\\n",
       "0                             6                                     0   \n",
       "1                             0                                     0   \n",
       "2                             0                                     0   \n",
       "3                             0                                     0   \n",
       "4                             1                                     0   \n",
       "\n",
       "   NumberOfDependents  \n",
       "0                 2.0  \n",
       "1                 1.0  \n",
       "2                 0.0  \n",
       "3                 0.0  \n",
       "4                 0.0  "
      ]
     },
     "execution_count": 6,
     "metadata": {},
     "output_type": "execute_result"
    }
   ],
   "source": [
    "train_data_input.head()"
   ]
  },
  {
   "cell_type": "code",
   "execution_count": 7,
   "metadata": {},
   "outputs": [],
   "source": [
    "train_data_output = train_data[['SeriousDlqin2yrs']]"
   ]
  },
  {
   "cell_type": "code",
   "execution_count": 8,
   "metadata": {},
   "outputs": [
    {
     "data": {
      "text/html": [
       "<div>\n",
       "<style scoped>\n",
       "    .dataframe tbody tr th:only-of-type {\n",
       "        vertical-align: middle;\n",
       "    }\n",
       "\n",
       "    .dataframe tbody tr th {\n",
       "        vertical-align: top;\n",
       "    }\n",
       "\n",
       "    .dataframe thead th {\n",
       "        text-align: right;\n",
       "    }\n",
       "</style>\n",
       "<table border=\"1\" class=\"dataframe\">\n",
       "  <thead>\n",
       "    <tr style=\"text-align: right;\">\n",
       "      <th></th>\n",
       "      <th>SeriousDlqin2yrs</th>\n",
       "    </tr>\n",
       "  </thead>\n",
       "  <tbody>\n",
       "    <tr>\n",
       "      <th>0</th>\n",
       "      <td>1</td>\n",
       "    </tr>\n",
       "    <tr>\n",
       "      <th>1</th>\n",
       "      <td>0</td>\n",
       "    </tr>\n",
       "    <tr>\n",
       "      <th>2</th>\n",
       "      <td>0</td>\n",
       "    </tr>\n",
       "    <tr>\n",
       "      <th>3</th>\n",
       "      <td>0</td>\n",
       "    </tr>\n",
       "    <tr>\n",
       "      <th>4</th>\n",
       "      <td>0</td>\n",
       "    </tr>\n",
       "  </tbody>\n",
       "</table>\n",
       "</div>"
      ],
      "text/plain": [
       "   SeriousDlqin2yrs\n",
       "0                 1\n",
       "1                 0\n",
       "2                 0\n",
       "3                 0\n",
       "4                 0"
      ]
     },
     "execution_count": 8,
     "metadata": {},
     "output_type": "execute_result"
    }
   ],
   "source": [
    "train_data_output.head()"
   ]
  },
  {
   "cell_type": "code",
   "execution_count": 9,
   "metadata": {},
   "outputs": [
    {
     "data": {
      "text/plain": [
       "(150000, 10)"
      ]
     },
     "execution_count": 9,
     "metadata": {},
     "output_type": "execute_result"
    }
   ],
   "source": [
    "train_data_input.shape"
   ]
  },
  {
   "cell_type": "code",
   "execution_count": 10,
   "metadata": {},
   "outputs": [
    {
     "data": {
      "text/plain": [
       "(150000, 1)"
      ]
     },
     "execution_count": 10,
     "metadata": {},
     "output_type": "execute_result"
    }
   ],
   "source": [
    "train_data_output.shape"
   ]
  },
  {
   "cell_type": "code",
   "execution_count": 11,
   "metadata": {},
   "outputs": [
    {
     "name": "stdout",
     "output_type": "stream",
     "text": [
      "RevolvingUtilizationOfUnsecuredLines\n",
      "age\n",
      "NumberOfTime30-59DaysPastDueNotWorse\n",
      "DebtRatio\n",
      "MonthlyIncome\n",
      "NumberOfOpenCreditLinesAndLoans\n",
      "NumberOfTimes90DaysLate\n",
      "NumberRealEstateLoansOrLines\n",
      "NumberOfTime60-89DaysPastDueNotWorse\n",
      "NumberOfDependents\n"
     ]
    }
   ],
   "source": [
    "# Listing all input features\n",
    "\n",
    "for feature in train_data_input.columns:\n",
    "    print(feature)"
   ]
  },
  {
   "cell_type": "markdown",
   "metadata": {},
   "source": [
    "## Data Exploration"
   ]
  },
  {
   "cell_type": "markdown",
   "metadata": {},
   "source": [
    "### Exploring Output Data"
   ]
  },
  {
   "cell_type": "code",
   "execution_count": 12,
   "metadata": {},
   "outputs": [],
   "source": [
    "output_stat = Counter(train_data_output.SeriousDlqin2yrs)"
   ]
  },
  {
   "cell_type": "code",
   "execution_count": 13,
   "metadata": {},
   "outputs": [
    {
     "name": "stdout",
     "output_type": "stream",
     "text": [
      "Percentage of Customers who default are: 6.68%\n"
     ]
    }
   ],
   "source": [
    "print(\"Percentage of Customers who default are: \"+str(round(output_stat[1]*100/(output_stat[0]+output_stat[1]),2))+\"%\")"
   ]
  },
  {
   "cell_type": "code",
   "execution_count": 14,
   "metadata": {},
   "outputs": [
    {
     "name": "stdout",
     "output_type": "stream",
     "text": [
      "Percentage of Customers who do not default are: 93.32%\n"
     ]
    }
   ],
   "source": [
    "print(\"Percentage of Customers who do not default are: \"+str(round(output_stat[0]*100/(output_stat[0]+output_stat[1]),2))+\"%\")\n"
   ]
  },
  {
   "cell_type": "code",
   "execution_count": 15,
   "metadata": {},
   "outputs": [
    {
     "data": {
      "text/plain": [
       "<matplotlib.axes._subplots.AxesSubplot at 0x7fbec91f86a0>"
      ]
     },
     "execution_count": 15,
     "metadata": {},
     "output_type": "execute_result"
    },
    {
     "data": {
      "image/png": "[encoded data removed]",
      "text/plain": [
       "<Figure size 432x288 with 1 Axes>"
      ]
     },
     "metadata": {},
     "output_type": "display_data"
    }
   ],
   "source": [
    "train_data_output['SeriousDlqin2yrs'].plot.hist()"
   ]
  },
  {
   "cell_type": "code",
   "execution_count": 16,
   "metadata": {},
   "outputs": [],
   "source": [
    "#Note: the data above is an example of class imbalance having the ration of 7:93\n",
    "## Generally there are two approaches to handle class imbalance:\n",
    "## a. sampling based\n",
    "## b. cost based \n",
    "\n",
    "# Lets read through this on Class imbalance: \n",
    "## https://machinelearningmastery.com/what-is-imbalanced-classification/\n",
    "## https://towardsdatascience.com/guide-to-classification-on-imbalanced-datasets-d6653aa5fa23"
   ]
  },
  {
   "cell_type": "markdown",
   "metadata": {},
   "source": [
    "### Exploring Input Features"
   ]
  },
  {
   "cell_type": "markdown",
   "metadata": {},
   "source": [
    "#### RevolvingUtilizationOfUnsecuredLines"
   ]
  },
  {
   "cell_type": "code",
   "execution_count": 17,
   "metadata": {},
   "outputs": [
    {
     "data": {
      "text/plain": [
       "<matplotlib.axes._subplots.AxesSubplot at 0x7fbec8cac588>"
      ]
     },
     "execution_count": 17,
     "metadata": {},
     "output_type": "execute_result"
    },
    {
     "data": {
      "image/png": "[encoded data removed]",
      "text/plain": [
       "<Figure size 432x288 with 1 Axes>"
      ]
     },
     "metadata": {},
     "output_type": "display_data"
    }
   ],
   "source": [
    "train_data_input['RevolvingUtilizationOfUnsecuredLines'].plot.hist()"
   ]
  },
  {
   "cell_type": "code",
   "execution_count": 18,
   "metadata": {},
   "outputs": [
    {
     "data": {
      "text/plain": [
       "count    150000.000000\n",
       "mean          6.048438\n",
       "std         249.755371\n",
       "min           0.000000\n",
       "25%           0.029867\n",
       "50%           0.154181\n",
       "75%           0.559046\n",
       "max       50708.000000\n",
       "Name: RevolvingUtilizationOfUnsecuredLines, dtype: float64"
      ]
     },
     "execution_count": 18,
     "metadata": {},
     "output_type": "execute_result"
    }
   ],
   "source": [
    "train_data['RevolvingUtilizationOfUnsecuredLines'].describe()"
   ]
  },
  {
   "cell_type": "markdown",
   "metadata": {},
   "source": [
    "#### Detecting whether RevolvingUtilizationOfUnsecuredLines has outliers"
   ]
  },
  {
   "cell_type": "code",
   "execution_count": 19,
   "metadata": {},
   "outputs": [
    {
     "data": {
      "text/plain": [
       "<matplotlib.axes._subplots.AxesSubplot at 0x7fbec91d7a58>"
      ]
     },
     "execution_count": 19,
     "metadata": {},
     "output_type": "execute_result"
    },
    {
     "data": {
      "image/png": "[encoded data removed]",
      "text/plain": [
       "<Figure size 432x288 with 1 Axes>"
      ]
     },
     "metadata": {},
     "output_type": "display_data"
    }
   ],
   "source": [
    "# Indentifying if ReveolvingUtilizationOfUnsecuredLines has any otliers\n",
    "## Link on article about Outlier detection: https://machinelearningmastery.com/how-to-identify-outliers-in-your-data/\n",
    "\n",
    "#Approach 1: Extreme Value Analysis\n",
    "# https://heartbeat.fritz.ai/how-to-make-your-machine-learning-models-robust-to-outliers-44d404067d07\n",
    "## Interquartile range is given by, IQR = Q3 — Q1 \n",
    "## Upper limit = Q3+1.5*IQR \n",
    "## Lower limit = Q1–1.5*IQR \n",
    "## Anything below the lower limit and above the upper limit is considered an outlier\n",
    "## Note: Linear models are more impacted by the outliers than the tree based models. Source: https://www.quora.com/Why-are-tree-based-models-robust-to-outliers\n",
    "\n",
    "train_data_input[['RevolvingUtilizationOfUnsecuredLines']].boxplot()"
   ]
  },
  {
   "cell_type": "code",
   "execution_count": 20,
   "metadata": {},
   "outputs": [],
   "source": [
    "q_1 = train_data['RevolvingUtilizationOfUnsecuredLines'].describe()['25%']\n",
    "q_3 = train_data['RevolvingUtilizationOfUnsecuredLines'].describe()['75%']\n",
    "inter_quartile_range =  round(q_3 - q_1,2)\n",
    "upper_limit_outlier = round(q_3 + 1.5*inter_quartile_range,2)\n",
    "lower_limit_outlier = round(q_3 - 1.5*inter_quartile_range,2)"
   ]
  },
  {
   "cell_type": "code",
   "execution_count": 21,
   "metadata": {},
   "outputs": [
    {
     "data": {
      "text/plain": [
       "(0.53, -0.24, 1.35)"
      ]
     },
     "execution_count": 21,
     "metadata": {},
     "output_type": "execute_result"
    }
   ],
   "source": [
    "inter_quartile_range, lower_limit_outlier, upper_limit_outlier"
   ]
  },
  {
   "cell_type": "code",
   "execution_count": 22,
   "metadata": {},
   "outputs": [
    {
     "name": "stdout",
     "output_type": "stream",
     "text": [
      "Percentage datapoints of RevolvingUtilizationOfUnsecuredLines that are outliers is 0.51%\n"
     ]
    }
   ],
   "source": [
    "outlier_count = 0\n",
    "lower_outliers, upper_outliers = 0,0\n",
    "for i in train_data_input['RevolvingUtilizationOfUnsecuredLines']:\n",
    "    if i > upper_limit_outlier:\n",
    "        upper_outliers+=1 \n",
    "        outlier_count+=1\n",
    "    if i < lower_limit_outlier:\n",
    "        lower_outliers+=1\n",
    "        outlier_count+=1\n",
    "\n",
    "\n",
    "print(\"Percentage datapoints of RevolvingUtilizationOfUnsecuredLines that are outliers is \"+str(outlier_count*100/len(train_data_input['RevolvingUtilizationOfUnsecuredLines']))+\"%\")\n"
   ]
  },
  {
   "cell_type": "code",
   "execution_count": 23,
   "metadata": {},
   "outputs": [
    {
     "name": "stdout",
     "output_type": "stream",
     "text": [
      "765 0\n"
     ]
    }
   ],
   "source": [
    "print(upper_outliers,lower_outliers)"
   ]
  },
  {
   "cell_type": "markdown",
   "metadata": {},
   "source": [
    "#### Handling outliers of RevolvingUtilizationOfUnsecuredLines"
   ]
  },
  {
   "cell_type": "code",
   "execution_count": 24,
   "metadata": {},
   "outputs": [],
   "source": [
    "# How to deal with these outliers? Should they be removed, imputed, etc?\n",
    "## Currently we are imputing the outliers with values, \n",
    "## upper_outliers will be imputed with the maximum value that falls under upper_limit_outlier\n",
    "## lower_outliers will be imputed with the minimum value that falls under lower_limit_outlier"
   ]
  },
  {
   "cell_type": "code",
   "execution_count": 25,
   "metadata": {},
   "outputs": [],
   "source": [
    "valid_upper_val = train_data_input[train_data_input['RevolvingUtilizationOfUnsecuredLines'] < upper_limit_outlier]['RevolvingUtilizationOfUnsecuredLines'].max()\n",
    "valid_lower_val = train_data_input[train_data_input['RevolvingUtilizationOfUnsecuredLines'] > lower_limit_outlier]['RevolvingUtilizationOfUnsecuredLines'].min()\n",
    "\n"
   ]
  },
  {
   "cell_type": "code",
   "execution_count": 26,
   "metadata": {},
   "outputs": [
    {
     "data": {
      "text/plain": [
       "(1.349255721, 0.0)"
      ]
     },
     "execution_count": 26,
     "metadata": {},
     "output_type": "execute_result"
    }
   ],
   "source": [
    "valid_upper_val,valid_lower_val"
   ]
  },
  {
   "cell_type": "code",
   "execution_count": 27,
   "metadata": {},
   "outputs": [],
   "source": [
    "train_data_input.loc[train_data_input['RevolvingUtilizationOfUnsecuredLines']>upper_limit_outlier,'RevolvingUtilizationOfUnsecuredLines']=valid_upper_val\n",
    "train_data_input.loc[train_data_input['RevolvingUtilizationOfUnsecuredLines']<lower_limit_outlier,'RevolvingUtilizationOfUnsecuredLines']=valid_lower_val\n"
   ]
  },
  {
   "cell_type": "code",
   "execution_count": 28,
   "metadata": {},
   "outputs": [],
   "source": [
    "#### Confirming that outliers of RevolvingUtilizationOfUnsecuredLines has been handled"
   ]
  },
  {
   "cell_type": "code",
   "execution_count": 29,
   "metadata": {},
   "outputs": [
    {
     "name": "stdout",
     "output_type": "stream",
     "text": [
      "0 0 Percentage datapoints of RevolvingUtilizationOfUnsecuredLines that are outliers is 0.0%\n"
     ]
    }
   ],
   "source": [
    "outlier_count = 0\n",
    "lower_outliers, upper_outliers = 0,0\n",
    "for i in train_data_input['RevolvingUtilizationOfUnsecuredLines']:\n",
    "    if i > upper_limit_outlier:\n",
    "        upper_outliers+=1 \n",
    "        outlier_count+=1\n",
    "    if i < lower_limit_outlier:\n",
    "        lower_outliers+=1\n",
    "        outlier_count+=1\n",
    "\n",
    "\n",
    "print(upper_outliers,lower_outliers,\"Percentage datapoints of RevolvingUtilizationOfUnsecuredLines that are outliers is \"+str(outlier_count*100/len(train_data_input['RevolvingUtilizationOfUnsecuredLines']))+\"%\")\n"
   ]
  },
  {
   "cell_type": "markdown",
   "metadata": {},
   "source": [
    "#### age"
   ]
  },
  {
   "cell_type": "code",
   "execution_count": 30,
   "metadata": {},
   "outputs": [
    {
     "data": {
      "text/plain": [
       "count    150000.000000\n",
       "mean         52.295207\n",
       "std          14.771866\n",
       "min           0.000000\n",
       "25%          41.000000\n",
       "50%          52.000000\n",
       "75%          63.000000\n",
       "max         109.000000\n",
       "Name: age, dtype: float64"
      ]
     },
     "execution_count": 30,
     "metadata": {},
     "output_type": "execute_result"
    }
   ],
   "source": [
    "train_data_input['age'].describe()"
   ]
  },
  {
   "cell_type": "code",
   "execution_count": 31,
   "metadata": {},
   "outputs": [
    {
     "data": {
      "text/plain": [
       "<matplotlib.axes._subplots.AxesSubplot at 0x7fbec91d74e0>"
      ]
     },
     "execution_count": 31,
     "metadata": {},
     "output_type": "execute_result"
    },
    {
     "data": {
      "image/png": "[encoded data removed]",
      "text/plain": [
       "<Figure size 432x288 with 1 Axes>"
      ]
     },
     "metadata": {},
     "output_type": "display_data"
    }
   ],
   "source": [
    "train_data_input['age'].plot.hist(edgecolor='black')"
   ]
  },
  {
   "cell_type": "code",
   "execution_count": 32,
   "metadata": {},
   "outputs": [],
   "source": [
    "# options are: outlier, bin or adaptive_bin\n",
    "age_bin_or_outlier = 'adaptive_bin'"
   ]
  },
  {
   "cell_type": "markdown",
   "metadata": {},
   "source": [
    "#### Experimenting with Fixed Width Binning for age column\n",
    "##### Note: While runing binning, do not run the outlier code of the age so that we are able to identify the affaect of the two independently"
   ]
  },
  {
   "cell_type": "code",
   "execution_count": 33,
   "metadata": {},
   "outputs": [],
   "source": [
    "# Fixed with Binning: Source, https://towardsdatascience.com/understanding-feature-engineering-part-1-continuous-numeric-data-da4e47099a7b#:~:text=Binning%2C%20also%20known%20as%20quantization,are%20binned%20or%20grouped%20into.\n",
    "\n",
    "if age_bin_or_outlier == 'bin':\n",
    "\n",
    "    train_data_input['age_fixed_width_bin'] = np.where(train_data_input['age'] <= 25, 1,\n",
    "                                            np.where(train_data_input['age'] <= 35, 2,\n",
    "                                            np.where(train_data_input['age'] <= 45, 3,\n",
    "                                            np.where(train_data_input['age'] <= 55, 4,\n",
    "                                            np.where(train_data_input['age'] <= 65, 5,\n",
    "                                            np.where(train_data_input['age'] <= 75, 6,\n",
    "                                            np.where(train_data_input['age'] <= 85, 7,\n",
    "                                            np.where(train_data_input['age'] <= 95, 8,9))))))))\n",
    "    \n",
    "    print(set(train_data_input['age_fixed_width_bin']))\n",
    "    \n",
    "    train_data_input['age'] = train_data_input['age_fixed_width_bin']\n",
    "    \n",
    "    train_data_input.drop(columns='age_fixed_width_bin',inplace=True)"
   ]
  },
  {
   "cell_type": "markdown",
   "metadata": {},
   "source": [
    "#### Experimenting with Adaptive Binning for age column\n",
    "\n",
    "##### Concept behind Adaptive Binning:     In Fixed-Width-Binning we manually create the threshold for the bins. In Adaptive based we look at distribution of the data to create the bins."
   ]
  },
  {
   "cell_type": "code",
   "execution_count": 34,
   "metadata": {},
   "outputs": [
    {
     "name": "stdout",
     "output_type": "stream",
     "text": [
      "{0, 1, 2, 3, 4, 5, 6, 7, 8, 9}\n"
     ]
    }
   ],
   "source": [
    "if age_bin_or_outlier == 'adaptive_bin':\n",
    "\n",
    "    quantiles = 10 # Example: if quantiles = 4, it means, bins will be 0-25 percentile, 25-50th percentile, 50-75th percentile and 75-100th percentile\n",
    "    quantile_label = [i for i in range(quantiles)]\n",
    "    train_data_input['age_adaptive_bin'] = pd.qcut(train_data_input['age'],\n",
    "                                                   q=quantiles,\n",
    "                                                   labels=quantile_label)\n",
    "\n",
    "    print(set(train_data_input['age_adaptive_bin']))\n",
    "\n",
    "    train_data_input['age'] = train_data_input['age_adaptive_bin']\n",
    "\n",
    "    train_data_input.drop(columns='age_adaptive_bin',inplace=True)"
   ]
  },
  {
   "cell_type": "markdown",
   "metadata": {},
   "source": [
    "#### Detecting outliers for age"
   ]
  },
  {
   "cell_type": "code",
   "execution_count": 35,
   "metadata": {},
   "outputs": [
    {
     "data": {
      "text/plain": [
       "<matplotlib.axes._subplots.AxesSubplot at 0x7fbec583f198>"
      ]
     },
     "execution_count": 35,
     "metadata": {},
     "output_type": "execute_result"
    },
    {
     "data": {
      "image/png": "[encoded data removed]",
      "text/plain": [
       "<Figure size 432x288 with 1 Axes>"
      ]
     },
     "metadata": {},
     "output_type": "display_data"
    }
   ],
   "source": [
    "train_data_input[['age']].boxplot()"
   ]
  },
  {
   "cell_type": "code",
   "execution_count": 36,
   "metadata": {},
   "outputs": [],
   "source": [
    "if age_bin_or_outlier == 'outlier':\n",
    "\n",
    "    percent_75_age = train_data_input['age'].describe()['75%']\n",
    "    percent_25_age = train_data_input['age'].describe()['25%']\n",
    "    iqr = percent_75_age - percent_25_age\n",
    "    valid_upper_range = percent_75_age + 1.5*iqr\n",
    "    valid_lower_range = percent_25_age - 1.5*iqr\n",
    "\n",
    "    print(valid_upper_range,valid_lower_range)"
   ]
  },
  {
   "cell_type": "code",
   "execution_count": 37,
   "metadata": {},
   "outputs": [],
   "source": [
    "if age_bin_or_outlier == 'outlier':\n",
    "    outlier_count = 0\n",
    "    for age in train_data_input['age']:\n",
    "        if age > valid_upper_range or age < valid_lower_range:\n",
    "            outlier_count+=1\n",
    "\n",
    "    print(outlier_count, \"Percentage of outliers in age are \"+str(round(outlier_count*100/train_data_input['age'].count(),2))+\"%\")"
   ]
  },
  {
   "cell_type": "markdown",
   "metadata": {},
   "source": [
    "#### Handling outliers for age"
   ]
  },
  {
   "cell_type": "code",
   "execution_count": 38,
   "metadata": {},
   "outputs": [],
   "source": [
    "if age_bin_or_outlier == 'outlier':\n",
    "    max_valid_age = train_data_input[train_data_input['age']<valid_upper_range]['age'].max()\n",
    "    min_valid_age = train_data_input[train_data_input['age']>valid_lower_range]['age'].min()\n",
    "    print(max_valid_age,min_valid_age)"
   ]
  },
  {
   "cell_type": "code",
   "execution_count": 39,
   "metadata": {},
   "outputs": [],
   "source": [
    "if age_bin_or_outlier == 'outlier':\n",
    "    train_data_input.loc[train_data_input['age'] > valid_upper_range,'age']=max_valid_age\n",
    "    train_data_input.loc[train_data_input['age'] < valid_lower_range,'age']=min_valid_age"
   ]
  },
  {
   "cell_type": "markdown",
   "metadata": {},
   "source": [
    "#### Exploring three relevant seeming PastDue features together\n",
    "\n",
    "#### NumberOfTime30-59DaysPastDueNotWorse, NumberOfTime60-89DaysPastDueNotWorse, NumberOfTimes90DaysLate\n"
   ]
  },
  {
   "cell_type": "code",
   "execution_count": 40,
   "metadata": {},
   "outputs": [],
   "source": [
    "due_30_59 = 'NumberOfTime30-59DaysPastDueNotWorse'\n",
    "due_60_89 = 'NumberOfTime60-89DaysPastDueNotWorse'\n",
    "due_90 = 'NumberOfTimes90DaysLate'\n",
    "\n",
    "option = due_30_59"
   ]
  },
  {
   "cell_type": "code",
   "execution_count": 41,
   "metadata": {},
   "outputs": [
    {
     "data": {
      "text/plain": [
       "count    150000.000000\n",
       "mean          0.421033\n",
       "std           4.192781\n",
       "min           0.000000\n",
       "25%           0.000000\n",
       "50%           0.000000\n",
       "75%           0.000000\n",
       "max          98.000000\n",
       "Name: NumberOfTime30-59DaysPastDueNotWorse, dtype: float64"
      ]
     },
     "execution_count": 41,
     "metadata": {},
     "output_type": "execute_result"
    }
   ],
   "source": [
    "train_data_input[option].describe()"
   ]
  },
  {
   "cell_type": "code",
   "execution_count": 42,
   "metadata": {},
   "outputs": [
    {
     "data": {
      "text/plain": [
       "<matplotlib.axes._subplots.AxesSubplot at 0x7fbec8b155f8>"
      ]
     },
     "execution_count": 42,
     "metadata": {},
     "output_type": "execute_result"
    },
    {
     "data": {
      "image/png": "[encoded data removed]",
      "text/plain": [
       "<Figure size 432x288 with 1 Axes>"
      ]
     },
     "metadata": {},
     "output_type": "display_data"
    }
   ],
   "source": [
    "train_data_input[option].plot.hist(edgecolor='black')"
   ]
  },
  {
   "cell_type": "code",
   "execution_count": 43,
   "metadata": {},
   "outputs": [
    {
     "data": {
      "text/plain": [
       "<matplotlib.axes._subplots.AxesSubplot at 0x7fbec8af9748>"
      ]
     },
     "execution_count": 43,
     "metadata": {},
     "output_type": "execute_result"
    },
    {
     "data": {
      "image/png": "[encoded data removed]",
      "text/plain": [
       "<Figure size 432x288 with 1 Axes>"
      ]
     },
     "metadata": {},
     "output_type": "display_data"
    }
   ],
   "source": [
    "train_data_input[[option]].boxplot()"
   ]
  },
  {
   "cell_type": "code",
   "execution_count": 44,
   "metadata": {},
   "outputs": [
    {
     "name": "stdout",
     "output_type": "stream",
     "text": [
      "[(1, 16033), (2, 4598), (3, 1754), (4, 747), (5, 342), (6, 140), (7, 54), (8, 25), (9, 12), (10, 4), (11, 1), (12, 2), (13, 1), (96, 5), (98, 264)]\n"
     ]
    }
   ],
   "source": [
    "count=0\n",
    "due_list = []\n",
    "for due_frequency in train_data_input[option]:\n",
    "    if due_frequency > 0:\n",
    "        count+=1\n",
    "        due_list.append(due_frequency)\n",
    "        \n",
    "print(sorted(Counter(due_list).items()))"
   ]
  },
  {
   "cell_type": "markdown",
   "metadata": {},
   "source": [
    "#### Visualizing correlation among three features"
   ]
  },
  {
   "cell_type": "code",
   "execution_count": 45,
   "metadata": {},
   "outputs": [
    {
     "data": {
      "text/plain": [
       "<matplotlib.axes._subplots.AxesSubplot at 0x7fbec8a2ea90>"
      ]
     },
     "execution_count": 45,
     "metadata": {},
     "output_type": "execute_result"
    },
    {
     "data": {
      "image/png": "[encoded data removed]",
      "text/plain": [
       "<Figure size 432x288 with 2 Axes>"
      ]
     },
     "metadata": {},
     "output_type": "display_data"
    }
   ],
   "source": [
    "# Using Pearson corrleation:\n",
    "# Source A : https://towardsdatascience.com/feature-selection-with-pandas-e3690ad8504b\n",
    "# Source B :  https://pandas.pydata.org/pandas-docs/stable/reference/api/pandas.DataFrame.corr.html\n",
    "\n",
    "correlated_matrix = train_data.corr()\n",
    "sb.heatmap(correlated_matrix)"
   ]
  },
  {
   "cell_type": "code",
   "execution_count": 46,
   "metadata": {},
   "outputs": [],
   "source": [
    "# Description of the above heatmap:\n",
    "## a. Correlation values closer to 1 imply strong positive correlation. That is increase ... \n",
    "##    ... of value in one feature correspond to the increase of value in another feature and vice-versa.\n",
    "## b. Correlation values closer to -1 imply strong negative correlation. That is increase ... \n",
    "##    ... of value in one feature correspond to the decrease of value in another feature and vice-versa.\n",
    "## c. Correlation values closer to 0 imply weak correlation. Value of exact 0 implies no correlation at all.\n",
    "\n",
    "## From the above heatmap we can see that the three below listed features are highly correlated:\n",
    "## i. 'NumberOfTime30-59DaysPastDueNotWorse'\n",
    "## ii. 'NumberOfTime60-89DaysPastDueNotWorse'\n",
    "## iii. 'NumberOfTimes90DaysLate'\n",
    "\n",
    "## And as we see below that their pairwise correlation is on the high end of 0.98 indicating ...\n",
    "## very strong positive correlation\n"
   ]
  },
  {
   "cell_type": "markdown",
   "metadata": {},
   "source": [
    "#### Two approach for the correlated features"
   ]
  },
  {
   "cell_type": "code",
   "execution_count": 47,
   "metadata": {},
   "outputs": [],
   "source": [
    "## Approach 1: Retain only one feature and drop the other two\n",
    "## In theory given that the three features are so highly correlated that they all might not be adding value ...\n",
    "## ... so we can remove the other correlated features\n",
    "\n",
    "## Lets say we maintain 'NumberOfTime30-59DaysPastDueNotWorse' and drop the other two:\n",
    "train_data_input.drop(columns=['NumberOfTime60-89DaysPastDueNotWorse', 'NumberOfTimes90DaysLate'],inplace=True)\n",
    "\n",
    "## Doing so we see the Recall and Precision reduces significantly. The same is the case when we keep any one of ...\n",
    "## ... the three and drop other two. Same happens if we keep any two and drop the other one.\n",
    "## This shows that eventhough the features are highly correlated the model is finding all of them useful ...\n",
    "## ... in making the predictions. Hence, we would not be able to drop any of the three feature\n"
   ]
  },
  {
   "cell_type": "code",
   "execution_count": 48,
   "metadata": {},
   "outputs": [],
   "source": [
    "# one_day = 1\n",
    "# one_week = 7*one_day\n",
    "# half_month = 2*one_week\n",
    "# one_month = 4*one_week\n",
    "\n",
    "# custom_threshold = {0:0,one_week:1,half_month:2, one_month:3}\n",
    "# #defining custom threshod for customers who were not delayed, delayed by a week, two week, one month, more than one month\n",
    "    "
   ]
  },
  {
   "cell_type": "code",
   "execution_count": 49,
   "metadata": {},
   "outputs": [],
   "source": [
    "# custom_threshold"
   ]
  },
  {
   "cell_type": "code",
   "execution_count": 50,
   "metadata": {},
   "outputs": [],
   "source": [
    "# for past_due_feature in ['NumberOfTime60-89DaysPastDueNotWorse',\n",
    "#                          'NumberOfTimes90DaysLate',\n",
    "#                          'NumberOfTime30-59DaysPastDueNotWorse']:\n",
    "    \n",
    "#     train_data_input[past_due_feature] = np.where(train_data_input[past_due_feature]>one_month,\n",
    "#                                                   custom_threshold[one_month]+1, \n",
    "#                                                   np.where(train_data_input[past_due_feature]>half_month,\n",
    "#                                                            custom_threshold[half_month]+1, \n",
    "#                                                            np.where(train_data_input[past_due_feature]>one_week, \n",
    "#                                                                     custom_threshold[one_week]+1, \n",
    "#                                                                     np.where(train_data_input[past_due_feature]>0, \n",
    "#                                                                              custom_threshold[0]+1,0))))\n",
    "    \n",
    "#     print(sorted(Counter(train_data_input[past_due_feature]).items()))\n",
    "\n"
   ]
  },
  {
   "cell_type": "markdown",
   "metadata": {},
   "source": [
    "## Build Logistic Regression Model"
   ]
  },
  {
   "cell_type": "code",
   "execution_count": 51,
   "metadata": {},
   "outputs": [],
   "source": [
    "from sklearn.linear_model import LogisticRegression\n",
    "from sklearn.metrics import classification_report\n",
    "\n",
    "\n",
    "model = LogisticRegression()"
   ]
  },
  {
   "cell_type": "code",
   "execution_count": 52,
   "metadata": {},
   "outputs": [],
   "source": [
    "# train_data_input.fillna(value=0,inplace=True) was throwing `ValueError: fill value must be in categories`\n",
    "# What it means is that 0 is not already present in the columns having null values, this can be because the column \n",
    "# can be of different data type eg. string, float or so \n",
    "\n",
    "# We can overcome this error in two ways:\n",
    "# Approach 1. Add np.nan as a category in the columns: Source (https://stackoverflow.com/questions/53664948/pandas-fillna-throws-valueerror-fill-value-must-be-in-categories)\n",
    "# for column_having_nan_value in train_data_input.columns[train_data_input.isna().any()]:\n",
    "#     print(type(column_having_nan_value))\n",
    "#     train_data_input[column_having_nan_value] = train_data_input[column_having_nan_value].astype('category').cat.add_categories(0)\n",
    "#     train_data_input[column_having_nan_value].fillna(0,inplace=True)\n",
    "# Finding columns with nan values: Source (https://datatofish.com/columns-nan-pandas-dataframe/)\n",
    "# But the approach 1 did not worked because of categories related error\n",
    "\n",
    "#Approach 2: Use replace instead of fillna\n",
    "train_data_input.replace(np.nan,0,inplace=True)\n",
    "\n",
    "\n"
   ]
  },
  {
   "cell_type": "code",
   "execution_count": 53,
   "metadata": {},
   "outputs": [
    {
     "data": {
      "text/plain": [
       "LogisticRegression(C=1.0, class_weight=None, dual=False, fit_intercept=True,\n",
       "          intercept_scaling=1, max_iter=100, multi_class='ovr', n_jobs=1,\n",
       "          penalty='l2', random_state=None, solver='liblinear', tol=0.0001,\n",
       "          verbose=0, warm_start=False)"
      ]
     },
     "execution_count": 53,
     "metadata": {},
     "output_type": "execute_result"
    }
   ],
   "source": [
    "model.fit(train_data_input,train_data_output)"
   ]
  },
  {
   "cell_type": "code",
   "execution_count": 54,
   "metadata": {},
   "outputs": [],
   "source": [
    "predicted_output = model.predict(train_data_input)"
   ]
  },
  {
   "cell_type": "code",
   "execution_count": 55,
   "metadata": {},
   "outputs": [
    {
     "name": "stdout",
     "output_type": "stream",
     "text": [
      "             precision    recall  f1-score   support\n",
      "\n",
      "          0       0.93      1.00      0.97    139974\n",
      "          1       0.55      0.01      0.03     10026\n",
      "\n",
      "avg / total       0.91      0.93      0.90    150000\n",
      "\n"
     ]
    }
   ],
   "source": [
    "print(classification_report(train_data_output['SeriousDlqin2yrs'],predicted_output))"
   ]
  },
  {
   "cell_type": "markdown",
   "metadata": {},
   "source": [
    "##### [v1] Vanilla Logistic Regression has a Recall of 4% and a Precision of 55%. This will be our benchmark. "
   ]
  },
  {
   "cell_type": "markdown",
   "metadata": {},
   "source": [
    "##### [v2] After imputing outliers of RevolvingUtilizationOfUnsecuredLines, Recall increased to 5% (v.s. 4%) and Precision to 59% (v.s. 55%) for vanilla Logistic Regression.\n"
   ]
  },
  {
   "cell_type": "markdown",
   "metadata": {},
   "source": [
    "##### [v3] After imputing outliers for age, Recall increased to 6% (v.s. 5%) but Precision stayed at 59% compared to previous update.\n"
   ]
  },
  {
   "cell_type": "markdown",
   "metadata": {},
   "source": [
    "##### [v4] If we bin age through fixed width binning instead of doing outliers. The performance remains same as v2."
   ]
  },
  {
   "cell_type": "markdown",
   "metadata": {},
   "source": [
    "##### [v5] Adaptive Binning for age feature: Making a quartile based binning (i.e. 4 quantiles) the performance is same as v3. But making  it a decile based (i.e. 10 quantiles) the Recall stays at 6% but the Precision improves to 60% (v.s. 59%) compared to v3."
   ]
  },
  {
   "cell_type": "markdown",
   "metadata": {},
   "source": [
    "##### [v6] We found that the three features 'NumberOfTime30-59DaysPastDueNotWorse', 'NumberOfTime60-89DaysPastDueNotWorse', 'NumberOfTimes90DaysLate' are highly correlated. So we dropped other two and kept just one. This results in Precision falling to 55% (v.s. 60%) and Recall falling to 1% (v.s. 6%) compared to v5\n"
   ]
  },
  {
   "cell_type": "code",
   "execution_count": null,
   "metadata": {},
   "outputs": [],
   "source": []
  }
 ],
 "metadata": {
  "kernelspec": {
   "display_name": "Python 3",
   "language": "python",
   "name": "python3"
  },
  "language_info": {
   "codemirror_mode": {
    "name": "ipython",
    "version": 3
   },
   "file_extension": ".py",
   "mimetype": "text/x-python",
   "name": "python",
   "nbconvert_exporter": "python",
   "pygments_lexer": "ipython3",
   "version": "3.6.6"
  }
 },
 "nbformat": 4,
 "nbformat_minor": 2
}
