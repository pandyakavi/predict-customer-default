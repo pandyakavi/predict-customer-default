{
 "cells": [
  {
   "cell_type": "code",
   "execution_count": 21,
   "metadata": {},
   "outputs": [],
   "source": [
    "import os\n",
    "import pandas as pd\n",
    "import numpy as np\n",
    "from collections import Counter\n",
    "import pickle"
   ]
  },
  {
   "cell_type": "code",
   "execution_count": 22,
   "metadata": {},
   "outputs": [],
   "source": [
    "# for dirname, _, filenames in os.walk('/mnt'):\n",
    "#     for filename in filenames:\n",
    "#         print(dirname,filename)"
   ]
  },
  {
   "cell_type": "code",
   "execution_count": 23,
   "metadata": {},
   "outputs": [],
   "source": [
    "test_data_input = pd.read_csv('/mnt/cs-test.csv')"
   ]
  },
  {
   "cell_type": "code",
   "execution_count": 24,
   "metadata": {},
   "outputs": [
    {
     "data": {
      "text/html": [
       "<div>\n",
       "<style scoped>\n",
       "    .dataframe tbody tr th:only-of-type {\n",
       "        vertical-align: middle;\n",
       "    }\n",
       "\n",
       "    .dataframe tbody tr th {\n",
       "        vertical-align: top;\n",
       "    }\n",
       "\n",
       "    .dataframe thead th {\n",
       "        text-align: right;\n",
       "    }\n",
       "</style>\n",
       "<table border=\"1\" class=\"dataframe\">\n",
       "  <thead>\n",
       "    <tr style=\"text-align: right;\">\n",
       "      <th></th>\n",
       "      <th>Unnamed: 0</th>\n",
       "      <th>SeriousDlqin2yrs</th>\n",
       "      <th>RevolvingUtilizationOfUnsecuredLines</th>\n",
       "      <th>age</th>\n",
       "      <th>NumberOfTime30-59DaysPastDueNotWorse</th>\n",
       "      <th>DebtRatio</th>\n",
       "      <th>MonthlyIncome</th>\n",
       "      <th>NumberOfOpenCreditLinesAndLoans</th>\n",
       "      <th>NumberOfTimes90DaysLate</th>\n",
       "      <th>NumberRealEstateLoansOrLines</th>\n",
       "      <th>NumberOfTime60-89DaysPastDueNotWorse</th>\n",
       "      <th>NumberOfDependents</th>\n",
       "    </tr>\n",
       "  </thead>\n",
       "  <tbody>\n",
       "    <tr>\n",
       "      <th>0</th>\n",
       "      <td>1</td>\n",
       "      <td>NaN</td>\n",
       "      <td>0.885519</td>\n",
       "      <td>43</td>\n",
       "      <td>0</td>\n",
       "      <td>0.177513</td>\n",
       "      <td>5700.0</td>\n",
       "      <td>4</td>\n",
       "      <td>0</td>\n",
       "      <td>0</td>\n",
       "      <td>0</td>\n",
       "      <td>0.0</td>\n",
       "    </tr>\n",
       "    <tr>\n",
       "      <th>1</th>\n",
       "      <td>2</td>\n",
       "      <td>NaN</td>\n",
       "      <td>0.463295</td>\n",
       "      <td>57</td>\n",
       "      <td>0</td>\n",
       "      <td>0.527237</td>\n",
       "      <td>9141.0</td>\n",
       "      <td>15</td>\n",
       "      <td>0</td>\n",
       "      <td>4</td>\n",
       "      <td>0</td>\n",
       "      <td>2.0</td>\n",
       "    </tr>\n",
       "    <tr>\n",
       "      <th>2</th>\n",
       "      <td>3</td>\n",
       "      <td>NaN</td>\n",
       "      <td>0.043275</td>\n",
       "      <td>59</td>\n",
       "      <td>0</td>\n",
       "      <td>0.687648</td>\n",
       "      <td>5083.0</td>\n",
       "      <td>12</td>\n",
       "      <td>0</td>\n",
       "      <td>1</td>\n",
       "      <td>0</td>\n",
       "      <td>2.0</td>\n",
       "    </tr>\n",
       "    <tr>\n",
       "      <th>3</th>\n",
       "      <td>4</td>\n",
       "      <td>NaN</td>\n",
       "      <td>0.280308</td>\n",
       "      <td>38</td>\n",
       "      <td>1</td>\n",
       "      <td>0.925961</td>\n",
       "      <td>3200.0</td>\n",
       "      <td>7</td>\n",
       "      <td>0</td>\n",
       "      <td>2</td>\n",
       "      <td>0</td>\n",
       "      <td>0.0</td>\n",
       "    </tr>\n",
       "    <tr>\n",
       "      <th>4</th>\n",
       "      <td>5</td>\n",
       "      <td>NaN</td>\n",
       "      <td>1.000000</td>\n",
       "      <td>27</td>\n",
       "      <td>0</td>\n",
       "      <td>0.019917</td>\n",
       "      <td>3865.0</td>\n",
       "      <td>4</td>\n",
       "      <td>0</td>\n",
       "      <td>0</td>\n",
       "      <td>0</td>\n",
       "      <td>1.0</td>\n",
       "    </tr>\n",
       "  </tbody>\n",
       "</table>\n",
       "</div>"
      ],
      "text/plain": [
       "   Unnamed: 0  SeriousDlqin2yrs  RevolvingUtilizationOfUnsecuredLines  age  \\\n",
       "0           1               NaN                              0.885519   43   \n",
       "1           2               NaN                              0.463295   57   \n",
       "2           3               NaN                              0.043275   59   \n",
       "3           4               NaN                              0.280308   38   \n",
       "4           5               NaN                              1.000000   27   \n",
       "\n",
       "   NumberOfTime30-59DaysPastDueNotWorse  DebtRatio  MonthlyIncome  \\\n",
       "0                                     0   0.177513         5700.0   \n",
       "1                                     0   0.527237         9141.0   \n",
       "2                                     0   0.687648         5083.0   \n",
       "3                                     1   0.925961         3200.0   \n",
       "4                                     0   0.019917         3865.0   \n",
       "\n",
       "   NumberOfOpenCreditLinesAndLoans  NumberOfTimes90DaysLate  \\\n",
       "0                                4                        0   \n",
       "1                               15                        0   \n",
       "2                               12                        0   \n",
       "3                                7                        0   \n",
       "4                                4                        0   \n",
       "\n",
       "   NumberRealEstateLoansOrLines  NumberOfTime60-89DaysPastDueNotWorse  \\\n",
       "0                             0                                     0   \n",
       "1                             4                                     0   \n",
       "2                             1                                     0   \n",
       "3                             2                                     0   \n",
       "4                             0                                     0   \n",
       "\n",
       "   NumberOfDependents  \n",
       "0                 0.0  \n",
       "1                 2.0  \n",
       "2                 2.0  \n",
       "3                 0.0  \n",
       "4                 1.0  "
      ]
     },
     "execution_count": 24,
     "metadata": {},
     "output_type": "execute_result"
    }
   ],
   "source": [
    "test_data_input.head()"
   ]
  },
  {
   "cell_type": "code",
   "execution_count": 25,
   "metadata": {},
   "outputs": [],
   "source": [
    "test_data_input = test_data_input.loc[:,~test_data_input.columns.isin(['Unnamed: 0','SeriousDlqin2yrs'])]"
   ]
  },
  {
   "cell_type": "markdown",
   "metadata": {},
   "source": [
    "## Preprocessing Test Data based on approach for Train Data"
   ]
  },
  {
   "cell_type": "markdown",
   "metadata": {},
   "source": [
    "### RevolvingUtilizationOfUnsecuredLines"
   ]
  },
  {
   "cell_type": "code",
   "execution_count": 26,
   "metadata": {},
   "outputs": [],
   "source": [
    "upper_limit_outlier = 1.35\n",
    "lower_limit_outlier = -0.24\n",
    "valid_upper_val = 1.349255721\n",
    "valid_lower_val = 0.0\n",
    " \n",
    "\n",
    "test_data_input.loc[test_data_input['RevolvingUtilizationOfUnsecuredLines']>upper_limit_outlier,'RevolvingUtilizationOfUnsecuredLines']=valid_upper_val\n",
    "test_data_input.loc[test_data_input['RevolvingUtilizationOfUnsecuredLines']<lower_limit_outlier,'RevolvingUtilizationOfUnsecuredLines']=valid_lower_val\n"
   ]
  },
  {
   "cell_type": "markdown",
   "metadata": {},
   "source": [
    "### age"
   ]
  },
  {
   "cell_type": "code",
   "execution_count": 27,
   "metadata": {},
   "outputs": [],
   "source": [
    "# options are: outlier, bin or adaptive_bin\n",
    "age_bin_or_outlier = 'adaptive_bin'"
   ]
  },
  {
   "cell_type": "code",
   "execution_count": 28,
   "metadata": {},
   "outputs": [],
   "source": [
    "if age_bin_or_outlier == 'bin':\n",
    "\n",
    "    test_data_input['age_fixed_width_bin'] = np.where(test_data_input['age'] <= 25, 1,\n",
    "                                            np.where(test_data_input['age'] <= 35, 2,\n",
    "                                            np.where(test_data_input['age'] <= 45, 3,\n",
    "                                            np.where(test_data_input['age'] <= 55, 4,\n",
    "                                            np.where(test_data_input['age'] <= 65, 5,\n",
    "                                            np.where(test_data_input['age'] <= 75, 6,\n",
    "                                            np.where(test_data_input['age'] <= 85, 7,\n",
    "                                            np.where(test_data_input['age'] <= 95, 8,9))))))))\n",
    "    \n",
    "    print(set(test_data_input['age_fixed_width_bin']))\n",
    "    \n",
    "    test_data_input['age'] = test_data_input['age_fixed_width_bin']\n",
    "    \n",
    "    test_data_input.drop(columns='age_fixed_width_bin',inplace=True)"
   ]
  },
  {
   "cell_type": "code",
   "execution_count": 29,
   "metadata": {},
   "outputs": [
    {
     "name": "stdout",
     "output_type": "stream",
     "text": [
      "{0, 1, 2, 3, 4, 5, 6, 7, 8, 9}\n"
     ]
    }
   ],
   "source": [
    "if age_bin_or_outlier == 'adaptive_bin':\n",
    "\n",
    "    quantiles = 10 # Example: if quantiles = 4, it means, bins will be 0-25 percentile, 25-50th percentile, 50-75th percentile and 75-100th percentile\n",
    "    quantile_label = [i for i in range(quantiles)]\n",
    "    test_data_input['age_adaptive_bin'] = pd.qcut(test_data_input['age'],\n",
    "                                                   q=quantiles,\n",
    "                                                   labels=quantile_label)\n",
    "\n",
    "    print(set(test_data_input['age_adaptive_bin']))\n",
    "\n",
    "    test_data_input['age'] = test_data_input['age_adaptive_bin']\n",
    "\n",
    "    test_data_input.drop(columns='age_adaptive_bin',inplace=True)"
   ]
  },
  {
   "cell_type": "markdown",
   "metadata": {},
   "source": [
    "### Exploring three relevant seeming PastDue features together\n",
    "\n",
    "#### NumberOfTime30-59DaysPastDueNotWorse, NumberOfTime60-89DaysPastDueNotWorse, NumberOfTimes90DaysLate\n"
   ]
  },
  {
   "cell_type": "code",
   "execution_count": 30,
   "metadata": {},
   "outputs": [
    {
     "name": "stdout",
     "output_type": "stream",
     "text": [
      "{0: 0, 7: 1, 14: 2, 28: 3}\n"
     ]
    }
   ],
   "source": [
    "## Approach 2: Bin the dataset\n",
    "## Given that three features have a very high positive correlation we can use the same concept and threshold of ...\n",
    "## ... binning for all three features.\n",
    "\n",
    "## For binning, we first analyze the dataset:\n",
    "# print(sorted(Counter(test_data_input['NumberOfTime30-59DaysPastDueNotWorse']).items()))\n",
    "## Given the other two features are related to this one, the Counter() for them also shows same trend to an extent\n",
    "## From this data we relaize that majority do not have a PastDue scenario with majority of the occurences ...\n",
    "## ... being 0. At same time I am thinking along the lines of 1 week, 2 weeks, 1 month and see if the ...\n",
    "## ... customers are able to pay the due within that. This idea came around people getting a paycheck next ...\n",
    "## ... week enabling them to pay the due or so on. Note, this a just a though process through which we defined ...\n",
    "## ... bins and does not necessarily hold true. Nonetheless atleast we have a thought process behind determining ...\n",
    "## ... these bins\n",
    "\n",
    "\n",
    "one_day = 1\n",
    "one_week = 7*one_day\n",
    "half_month = 2*one_week\n",
    "one_month = 4*one_week\n",
    "\n",
    "custom_bins = {0:0,one_week:1,half_month:2, one_month:3}\n",
    "## Due of 0 days, assign value 0\n",
    "## Due of (0,7] days, assign value 1\n",
    "## Due of (7,14] days, assign value 2\n",
    "## Due of (14,28] days, assign value 3\n",
    "## Due beyond 28 days, assign value 4\n",
    "## The code in below cell is execusting the above logic\n",
    "    \n",
    "print(custom_bins)"
   ]
  },
  {
   "cell_type": "code",
   "execution_count": 31,
   "metadata": {},
   "outputs": [
    {
     "name": "stdout",
     "output_type": "stream",
     "text": [
      "[(0, 96375), (1, 4910), (2, 4), (4, 214)]\n",
      "[(0, 95785), (1, 5464), (2, 37), (3, 3), (4, 214)]\n",
      "[(0, 85190), (1, 16051), (2, 47), (3, 1), (4, 214)]\n"
     ]
    }
   ],
   "source": [
    "for past_due_feature in ['NumberOfTime60-89DaysPastDueNotWorse',\n",
    "                         'NumberOfTimes90DaysLate',\n",
    "                         'NumberOfTime30-59DaysPastDueNotWorse']:\n",
    "    \n",
    "    test_data_input[past_due_feature] = np.where(test_data_input[past_due_feature]>one_month,\n",
    "                                                  custom_bins[one_month]+1, \n",
    "                                                  np.where(test_data_input[past_due_feature]>half_month,\n",
    "                                                           custom_bins[half_month]+1, \n",
    "                                                           np.where(test_data_input[past_due_feature]>one_week, \n",
    "                                                                    custom_bins[one_week]+1, \n",
    "                                                                    np.where(test_data_input[past_due_feature]>0, \n",
    "                                                                             custom_bins[0]+1,0))))\n",
    "    \n",
    "    print(sorted(Counter(test_data_input[past_due_feature]).items()))\n"
   ]
  },
  {
   "cell_type": "markdown",
   "metadata": {},
   "source": [
    "### DebtRatio"
   ]
  },
  {
   "cell_type": "code",
   "execution_count": 32,
   "metadata": {},
   "outputs": [],
   "source": [
    "outlier_upper_range,outlier_lower_range,non_outlier_highest_value,non_outlier_lowest_value = 1.91, -0.86, 1.91, 0.0\n",
    "\n",
    "test_data_input.loc[test_data_input['DebtRatio']>outlier_upper_range,'DebtRatio'] = non_outlier_highest_value\n",
    "test_data_input.loc[test_data_input['DebtRatio']<outlier_lower_range,'DebtRatio'] = non_outlier_lowest_value"
   ]
  },
  {
   "cell_type": "markdown",
   "metadata": {},
   "source": [
    "### Replacing Nan's by 0\n"
   ]
  },
  {
   "cell_type": "code",
   "execution_count": 33,
   "metadata": {},
   "outputs": [],
   "source": [
    "test_data_input.replace(np.nan,0,inplace=True)"
   ]
  },
  {
   "cell_type": "markdown",
   "metadata": {},
   "source": [
    "### Load a saved ML Model"
   ]
  },
  {
   "cell_type": "code",
   "execution_count": 34,
   "metadata": {},
   "outputs": [],
   "source": [
    "# # file_name = 'RandomForestMLModel.sav'\n",
    "# # file_name = 'XGBoostMLModel.sav'\n",
    "# file_name = 'SVMMLModel.sav'\n",
    "# if 'XGBoost' in file_name:\n",
    "#     test_data_input['age'] = pd.to_numeric(test_data_input['age'])\n",
    "\n",
    "# model = pickle.load(open(file_name,'rb'))"
   ]
  },
  {
   "cell_type": "code",
   "execution_count": 35,
   "metadata": {},
   "outputs": [
    {
     "name": "stdout",
     "output_type": "stream",
     "text": [
      "Loaded model from disk\n"
     ]
    }
   ],
   "source": [
    "# For Neural Network Model\n",
    "\n",
    "from keras.models import model_from_json\n",
    "file_name = 'NeuralNetworkMLModel'\n",
    "\n",
    "# load json and create model\n",
    "json_file = open(file_name+'.json', 'r')\n",
    "model_json = json_file.read()\n",
    "json_file.close()\n",
    "model = model_from_json(model_json)\n",
    "# load weights into new model\n",
    "model.load_weights(file_name+\".h5\")\n",
    "print(\"Loaded model from disk\")"
   ]
  },
  {
   "cell_type": "markdown",
   "metadata": {},
   "source": [
    "### Predict on Test Dataset"
   ]
  },
  {
   "cell_type": "code",
   "execution_count": 37,
   "metadata": {},
   "outputs": [],
   "source": [
    "if file_name == 'SVMMLModel.sav':\n",
    "    predicted_output = model.predict(test_data_input)\n",
    "elif file_name == 'NeuralNetworkMLModel':\n",
    "    predicted_output = model.predict_proba(test_data_input)\n",
    "else:\n",
    "    predicted_output = model.predict_proba(test_data_input)"
   ]
  },
  {
   "cell_type": "markdown",
   "metadata": {},
   "source": [
    "### Create DataFrame for Kaggle entry"
   ]
  },
  {
   "cell_type": "code",
   "execution_count": 33,
   "metadata": {},
   "outputs": [],
   "source": [
    "data  = {'Id': [i+1 for i in range(len(predicted_output))], 'Probability' : list(pd.DataFrame(predicted_output)[0])}\n",
    "entry_df = pd.DataFrame(data)"
   ]
  },
  {
   "cell_type": "code",
   "execution_count": 34,
   "metadata": {},
   "outputs": [
    {
     "data": {
      "text/html": [
       "<div>\n",
       "<style scoped>\n",
       "    .dataframe tbody tr th:only-of-type {\n",
       "        vertical-align: middle;\n",
       "    }\n",
       "\n",
       "    .dataframe tbody tr th {\n",
       "        vertical-align: top;\n",
       "    }\n",
       "\n",
       "    .dataframe thead th {\n",
       "        text-align: right;\n",
       "    }\n",
       "</style>\n",
       "<table border=\"1\" class=\"dataframe\">\n",
       "  <thead>\n",
       "    <tr style=\"text-align: right;\">\n",
       "      <th></th>\n",
       "      <th>Id</th>\n",
       "      <th>Probability</th>\n",
       "    </tr>\n",
       "  </thead>\n",
       "  <tbody>\n",
       "    <tr>\n",
       "      <th>0</th>\n",
       "      <td>1</td>\n",
       "      <td>0</td>\n",
       "    </tr>\n",
       "    <tr>\n",
       "      <th>1</th>\n",
       "      <td>2</td>\n",
       "      <td>0</td>\n",
       "    </tr>\n",
       "    <tr>\n",
       "      <th>2</th>\n",
       "      <td>3</td>\n",
       "      <td>0</td>\n",
       "    </tr>\n",
       "    <tr>\n",
       "      <th>3</th>\n",
       "      <td>4</td>\n",
       "      <td>0</td>\n",
       "    </tr>\n",
       "    <tr>\n",
       "      <th>4</th>\n",
       "      <td>5</td>\n",
       "      <td>0</td>\n",
       "    </tr>\n",
       "  </tbody>\n",
       "</table>\n",
       "</div>"
      ],
      "text/plain": [
       "   Id  Probability\n",
       "0   1            0\n",
       "1   2            0\n",
       "2   3            0\n",
       "3   4            0\n",
       "4   5            0"
      ]
     },
     "execution_count": 34,
     "metadata": {},
     "output_type": "execute_result"
    }
   ],
   "source": [
    "entry_df.head()"
   ]
  },
  {
   "cell_type": "markdown",
   "metadata": {},
   "source": [
    "### Save DataFrame to CSV"
   ]
  },
  {
   "cell_type": "code",
   "execution_count": 35,
   "metadata": {},
   "outputs": [],
   "source": [
    "entry_name = 'entry_' + file_name[::-1][4:][::-1] + '.csv'\n",
    "entry_df.to_csv(entry_name,index=False)"
   ]
  },
  {
   "cell_type": "code",
   "execution_count": null,
   "metadata": {},
   "outputs": [],
   "source": []
  }
 ],
 "metadata": {
  "kernelspec": {
   "display_name": "Python 3",
   "language": "python",
   "name": "python3"
  },
  "language_info": {
   "codemirror_mode": {
    "name": "ipython",
    "version": 3
   },
   "file_extension": ".py",
   "mimetype": "text/x-python",
   "name": "python",
   "nbconvert_exporter": "python",
   "pygments_lexer": "ipython3",
   "version": "3.6.6"
  }
 },
 "nbformat": 4,
 "nbformat_minor": 2
}
